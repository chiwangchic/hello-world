{
  "nbformat": 4,
  "nbformat_minor": 0,
  "metadata": {
    "colab": {
      "name": "Lecture_4_exercise.ipynb",
      "provenance": [],
      "collapsed_sections": []
    },
    "kernelspec": {
      "name": "python3",
      "display_name": "Python 3"
    }
  },
  "cells": [
    {
      "cell_type": "code",
      "metadata": {
        "id": "VSRK5XUUSPx-",
        "colab_type": "code",
        "outputId": "4d8a2e56-66b9-4242-f02c-c3cf042f20e3",
        "colab": {
          "base_uri": "https://localhost:8080/",
          "height": 35
        }
      },
      "source": [
        "import numpy as np\n",
        "a = np.array([1,2,3])\n",
        "print(a)"
      ],
      "execution_count": 2,
      "outputs": [
        {
          "output_type": "stream",
          "text": [
            "[1 2 3]\n"
          ],
          "name": "stdout"
        }
      ]
    },
    {
      "cell_type": "code",
      "metadata": {
        "id": "7OXH9DcJST7q",
        "colab_type": "code",
        "outputId": "f8a4b129-efc6-4e38-dced-0d3261d45c3e",
        "colab": {
          "base_uri": "https://localhost:8080/",
          "height": 70
        }
      },
      "source": [
        "import numpy as np\n",
        "a = np.array([[1,2,3],[4,5,6]])\n",
        "b = np.array((2,4,6))\n",
        "print(a)\n",
        "print(b)"
      ],
      "execution_count": 3,
      "outputs": [
        {
          "output_type": "stream",
          "text": [
            "[[1 2 3]\n",
            " [4 5 6]]\n",
            "[2 4 6]\n"
          ],
          "name": "stdout"
        }
      ]
    },
    {
      "cell_type": "code",
      "metadata": {
        "id": "8LNCV5qHZr6b",
        "colab_type": "code",
        "outputId": "d7092839-362d-4ebc-dd32-d5d40977949f",
        "colab": {
          "base_uri": "https://localhost:8080/",
          "height": 35
        }
      },
      "source": [
        "import numpy as np\n",
        "a = np.array([[1,2,3,4],[5,4], [5,6,7,None]])\n",
        "print(a.shape)"
      ],
      "execution_count": 4,
      "outputs": [
        {
          "output_type": "stream",
          "text": [
            "(3,)\n"
          ],
          "name": "stdout"
        }
      ]
    },
    {
      "cell_type": "code",
      "metadata": {
        "id": "FrEn_psDSVbE",
        "colab_type": "code",
        "colab": {
          "base_uri": "https://localhost:8080/",
          "height": 52
        },
        "outputId": "30d8f8da-abe2-48cd-cb40-55e8496be62e"
      },
      "source": [
        "import numpy as np\n",
        "a = np.zeros((2,2))\n",
        "print(a)"
      ],
      "execution_count": 5,
      "outputs": [
        {
          "output_type": "stream",
          "text": [
            "[[0. 0.]\n",
            " [0. 0.]]\n"
          ],
          "name": "stdout"
        }
      ]
    },
    {
      "cell_type": "code",
      "metadata": {
        "id": "M71zo-ubSWcf",
        "colab_type": "code",
        "colab": {
          "base_uri": "https://localhost:8080/",
          "height": 35
        },
        "outputId": "586a1a66-6d2a-464b-a9a5-9029f8b08b7b"
      },
      "source": [
        "import numpy as np\n",
        "b = np.ones((1,2))\n",
        "print(b)"
      ],
      "execution_count": 6,
      "outputs": [
        {
          "output_type": "stream",
          "text": [
            "[[1. 1.]]\n"
          ],
          "name": "stdout"
        }
      ]
    },
    {
      "cell_type": "code",
      "metadata": {
        "id": "pAgdy2ufScGm",
        "colab_type": "code",
        "colab": {
          "base_uri": "https://localhost:8080/",
          "height": 52
        },
        "outputId": "799a62bf-b691-4f1d-efa3-809b49b046b7"
      },
      "source": [
        "import numpy as np\n",
        "c = np.eye((2))\n",
        "d = a+c\n",
        "print(d)"
      ],
      "execution_count": 7,
      "outputs": [
        {
          "output_type": "stream",
          "text": [
            "[[1. 0.]\n",
            " [0. 1.]]\n"
          ],
          "name": "stdout"
        }
      ]
    },
    {
      "cell_type": "code",
      "metadata": {
        "id": "sf_qeTUlSfAk",
        "colab_type": "code",
        "colab": {
          "base_uri": "https://localhost:8080/",
          "height": 88
        },
        "outputId": "a6f46390-204c-4289-cc12-0fb79e83f9d1"
      },
      "source": [
        "import numpy as np\n",
        "b = np.random.random((2,2))\n",
        "print(b)"
      ],
      "execution_count": 8,
      "outputs": [
        {
          "output_type": "stream",
          "text": [
            "[[0.25674843 0.52434102]\n",
            " [0.27891804 0.37935852]]\n",
            "[[0.32403403 0.29815164]\n",
            " [0.79420263 0.3784453 ]]\n"
          ],
          "name": "stdout"
        }
      ]
    },
    {
      "cell_type": "code",
      "metadata": {
        "id": "YRgnlqE9Sggk",
        "colab_type": "code",
        "outputId": "aa9c664d-d373-4d16-f3cc-4d8785559dd2",
        "colab": {
          "base_uri": "https://localhost:8080/",
          "height": 52
        }
      },
      "source": [
        "import numpy as np\n",
        "a = np.array([[1,2,3,4], [5,6,7,8], [9,10,11,12]])\n",
        "print(a[:2,1:3])\n",
        "\n",
        "b = a[:2, 1:3]"
      ],
      "execution_count": 9,
      "outputs": [
        {
          "output_type": "stream",
          "text": [
            "[[2 3]\n",
            " [6 7]]\n"
          ],
          "name": "stdout"
        }
      ]
    },
    {
      "cell_type": "code",
      "metadata": {
        "id": "xX90RadUShp9",
        "colab_type": "code",
        "colab": {
          "base_uri": "https://localhost:8080/",
          "height": 106
        },
        "outputId": "06a51047-daef-4dcb-99b7-a8e222a6fc98"
      },
      "source": [
        "import numpy as np\n",
        "print(a[0, 1])\n",
        "b[0, 0] = 7\n",
        "print(a[0, 1]) \n",
        "print(a)\n",
        "\n",
        "\n",
        "#A subset of an array is a view into the same data --> b[0, 0] is the same piece of data as a[0, 1] "
      ],
      "execution_count": 10,
      "outputs": [
        {
          "output_type": "stream",
          "text": [
            "2\n",
            "7\n",
            "[[ 1  7  3  4]\n",
            " [ 5  6  7  8]\n",
            " [ 9 10 11 12]]\n"
          ],
          "name": "stdout"
        }
      ]
    },
    {
      "cell_type": "code",
      "metadata": {
        "id": "iq6S_QMRfDUZ",
        "colab_type": "code",
        "outputId": "3f883db0-a8fb-4fe4-a282-bd99bfb1953a",
        "colab": {
          "base_uri": "https://localhost:8080/",
          "height": 70
        }
      },
      "source": [
        "a = np.array([[1,2,3,4], [6,7,8,9]])\n",
        "\n",
        "print(a.shape)\n",
        "\n",
        "print(a[0,1:3])\n",
        "\n",
        "print(a[:,2])\n",
        "\n"
      ],
      "execution_count": 11,
      "outputs": [
        {
          "output_type": "stream",
          "text": [
            "(2, 4)\n",
            "[2 3]\n",
            "[3 8]\n"
          ],
          "name": "stdout"
        }
      ]
    },
    {
      "cell_type": "code",
      "metadata": {
        "id": "UKv1SOm6Siix",
        "colab_type": "code",
        "outputId": "3944e3c1-9633-497c-8ea1-a13b48c83e52",
        "colab": {
          "base_uri": "https://localhost:8080/",
          "height": 52
        }
      },
      "source": [
        "import numpy as np\n",
        "a = np.array([[1, 2, 3, 4,5], [5, 6, 7, 8,9], [9, 10, 11, 12,13], [13, 14, 15, 16,17]])\n",
        "sliced_a=a[:2, ::2]\n",
        "print(sliced_a)"
      ],
      "execution_count": 12,
      "outputs": [
        {
          "output_type": "stream",
          "text": [
            "[[1 3 5]\n",
            " [5 7 9]]\n"
          ],
          "name": "stdout"
        }
      ]
    },
    {
      "cell_type": "code",
      "metadata": {
        "id": "-NoJ6q4Wfp9G",
        "colab_type": "code",
        "outputId": "00ebed7f-2d9f-49c8-c482-9895fe884cbd",
        "colab": {
          "base_uri": "https://localhost:8080/",
          "height": 52
        }
      },
      "source": [
        "a = np.array([[1,2], [3, 4], [5, 6]])\n",
        "\n",
        "print(a[[0, 1, 2], [0, 1, 0]])\n",
        "\n",
        "print(np.array([a[0, 0], a[1, 1], a[2, 0]]))"
      ],
      "execution_count": 13,
      "outputs": [
        {
          "output_type": "stream",
          "text": [
            "[1 4 5]\n",
            "[1 4 5]\n"
          ],
          "name": "stdout"
        }
      ]
    },
    {
      "cell_type": "code",
      "metadata": {
        "id": "kZnJ69eAUbf5",
        "colab_type": "code",
        "outputId": "e563114d-45b1-4691-b096-f2d41104f6dc",
        "colab": {
          "base_uri": "https://localhost:8080/",
          "height": 35
        }
      },
      "source": [
        "import numpy as np\n",
        "a = np.array([[1, 2, 3, 4], [5, 6, 7, 8], [9, 10, 11, 12], [13, 14, 15, 16]])\n",
        "print(a[[1,2,1,3],[1,0,2,3]])"
      ],
      "execution_count": 14,
      "outputs": [
        {
          "output_type": "stream",
          "text": [
            "[ 6  9  7 16]\n"
          ],
          "name": "stdout"
        }
      ]
    },
    {
      "cell_type": "code",
      "metadata": {
        "id": "vF3SLGffgHXy",
        "colab_type": "code",
        "colab": {
          "base_uri": "https://localhost:8080/",
          "height": 88
        },
        "outputId": "3fe601c7-31cd-4f12-ea6a-626676f9d46b"
      },
      "source": [
        "import numpy as np\n",
        "\n",
        "x = np.array([[1,2],[3,4]], dtype=np.float64)\n",
        "y = np.array([[5,6],[7,8]], dtype=np.float64)\n",
        "\n",
        "print(x + y)\n",
        "\n",
        "print(np.add(x, y))"
      ],
      "execution_count": 15,
      "outputs": [
        {
          "output_type": "stream",
          "text": [
            "[[ 6.  8.]\n",
            " [10. 12.]]\n",
            "[[ 6.  8.]\n",
            " [10. 12.]]\n"
          ],
          "name": "stdout"
        }
      ]
    },
    {
      "cell_type": "code",
      "metadata": {
        "id": "wzDEwEW1gP4_",
        "colab_type": "code",
        "colab": {
          "base_uri": "https://localhost:8080/",
          "height": 88
        },
        "outputId": "f3d90d9a-d426-40e5-b714-bf7d2e364e3d"
      },
      "source": [
        "print(x-y)\n",
        "\n",
        "print(np.subtract(x, y))"
      ],
      "execution_count": 16,
      "outputs": [
        {
          "output_type": "stream",
          "text": [
            "[[-4. -4.]\n",
            " [-4. -4.]]\n",
            "[[-4. -4.]\n",
            " [-4. -4.]]\n"
          ],
          "name": "stdout"
        }
      ]
    },
    {
      "cell_type": "code",
      "metadata": {
        "id": "03qHdSnigVrN",
        "colab_type": "code",
        "colab": {
          "base_uri": "https://localhost:8080/",
          "height": 52
        },
        "outputId": "e622c5ef-1dd7-45ca-be7e-fc04d508fdf1"
      },
      "source": [
        "print(np.sqrt(x))"
      ],
      "execution_count": 17,
      "outputs": [
        {
          "output_type": "stream",
          "text": [
            "[[1.         1.41421356]\n",
            " [1.73205081 2.        ]]\n"
          ],
          "name": "stdout"
        }
      ]
    },
    {
      "cell_type": "code",
      "metadata": {
        "id": "0XTCcl0nghRO",
        "colab_type": "code",
        "colab": {
          "base_uri": "https://localhost:8080/",
          "height": 159
        },
        "outputId": "99ce36e0-6a27-4342-f20c-37b7b1962db0"
      },
      "source": [
        "import numpy as np\n",
        "\n",
        "a = np.array([[1,2], [3,4]])\n",
        "\n",
        "print(a)\n",
        "\n",
        "print(a.T)\n",
        "\n",
        "print(a.reshape(4,1))"
      ],
      "execution_count": 18,
      "outputs": [
        {
          "output_type": "stream",
          "text": [
            "[[1 2]\n",
            " [3 4]]\n",
            "[[1 3]\n",
            " [2 4]]\n",
            "[[1]\n",
            " [2]\n",
            " [3]\n",
            " [4]]\n"
          ],
          "name": "stdout"
        }
      ]
    },
    {
      "cell_type": "code",
      "metadata": {
        "id": "A-X48xvdgxIQ",
        "colab_type": "code",
        "colab": {
          "base_uri": "https://localhost:8080/",
          "height": 159
        },
        "outputId": "5af0c938-7635-414f-8a69-ed87de5538ba"
      },
      "source": [
        "import pandas as pd\n",
        "\n",
        "Data =[1, 3, 5, 7, 9, 11, 13]\n",
        "Index =['a', 'b', 'c', 'd', 'e', 'f', 'g']  \n",
        "\n",
        "ser = pd.Series(Data, Index)  \n",
        "print(ser)"
      ],
      "execution_count": 19,
      "outputs": [
        {
          "output_type": "stream",
          "text": [
            "a     1\n",
            "b     3\n",
            "c     5\n",
            "d     7\n",
            "e     9\n",
            "f    11\n",
            "g    13\n",
            "dtype: int64\n"
          ],
          "name": "stdout"
        }
      ]
    },
    {
      "cell_type": "code",
      "metadata": {
        "id": "BigWJs-YhP3S",
        "colab_type": "code",
        "colab": {
          "base_uri": "https://localhost:8080/",
          "height": 301
        },
        "outputId": "1b000699-bfe8-4970-dcc2-b5ca52d42a4a"
      },
      "source": [
        "import pandas as pd\n",
        "\n",
        "Data =[1, 3, 5, 7, 9, 11, 13]\n",
        "ser = pd.Series(Data)\n",
        "print(ser)\n",
        "\n",
        "Index =['a', 'b', 'c', 'd', 'e', 'f', 'g']  \n",
        "\n",
        "new_ser = pd.Series(Data, Index)  \n",
        "print(new_ser)"
      ],
      "execution_count": 20,
      "outputs": [
        {
          "output_type": "stream",
          "text": [
            "0     1\n",
            "1     3\n",
            "2     5\n",
            "3     7\n",
            "4     9\n",
            "5    11\n",
            "6    13\n",
            "dtype: int64\n",
            "a     1\n",
            "b     3\n",
            "c     5\n",
            "d     7\n",
            "e     9\n",
            "f    11\n",
            "g    13\n",
            "dtype: int64\n"
          ],
          "name": "stdout"
        }
      ]
    },
    {
      "cell_type": "code",
      "metadata": {
        "id": "bdpPVGALhZst",
        "colab_type": "code",
        "colab": {
          "base_uri": "https://localhost:8080/",
          "height": 346
        },
        "outputId": "817cc563-2aef-4341-e79a-a31c5a155ced"
      },
      "source": [
        "import pandas as pd\n",
        "\n",
        "Data =[1, 3, 5, 7, 9, 11]\n",
        "Index =['a', 'b', 'c', 'd', 'e', 'f', 'g']  \n",
        "\n",
        "ser = pd.Series(Data, Index)  \n",
        "print(ser)"
      ],
      "execution_count": 21,
      "outputs": [
        {
          "output_type": "error",
          "ename": "ValueError",
          "evalue": "ignored",
          "traceback": [
            "\u001b[0;31m---------------------------------------------------------------------------\u001b[0m",
            "\u001b[0;31mValueError\u001b[0m                                Traceback (most recent call last)",
            "\u001b[0;32m<ipython-input-21-3a7db85cf028>\u001b[0m in \u001b[0;36m<module>\u001b[0;34m()\u001b[0m\n\u001b[1;32m      4\u001b[0m \u001b[0mIndex\u001b[0m \u001b[0;34m=\u001b[0m\u001b[0;34m[\u001b[0m\u001b[0;34m'a'\u001b[0m\u001b[0;34m,\u001b[0m \u001b[0;34m'b'\u001b[0m\u001b[0;34m,\u001b[0m \u001b[0;34m'c'\u001b[0m\u001b[0;34m,\u001b[0m \u001b[0;34m'd'\u001b[0m\u001b[0;34m,\u001b[0m \u001b[0;34m'e'\u001b[0m\u001b[0;34m,\u001b[0m \u001b[0;34m'f'\u001b[0m\u001b[0;34m,\u001b[0m \u001b[0;34m'g'\u001b[0m\u001b[0;34m]\u001b[0m\u001b[0;34m\u001b[0m\u001b[0;34m\u001b[0m\u001b[0m\n\u001b[1;32m      5\u001b[0m \u001b[0;34m\u001b[0m\u001b[0m\n\u001b[0;32m----> 6\u001b[0;31m \u001b[0mser\u001b[0m \u001b[0;34m=\u001b[0m \u001b[0mpd\u001b[0m\u001b[0;34m.\u001b[0m\u001b[0mSeries\u001b[0m\u001b[0;34m(\u001b[0m\u001b[0mData\u001b[0m\u001b[0;34m,\u001b[0m \u001b[0mIndex\u001b[0m\u001b[0;34m)\u001b[0m\u001b[0;34m\u001b[0m\u001b[0;34m\u001b[0m\u001b[0m\n\u001b[0m\u001b[1;32m      7\u001b[0m \u001b[0mprint\u001b[0m\u001b[0;34m(\u001b[0m\u001b[0mser\u001b[0m\u001b[0;34m)\u001b[0m\u001b[0;34m\u001b[0m\u001b[0;34m\u001b[0m\u001b[0m\n",
            "\u001b[0;32m/usr/local/lib/python3.6/dist-packages/pandas/core/series.py\u001b[0m in \u001b[0;36m__init__\u001b[0;34m(self, data, index, dtype, name, copy, fastpath)\u001b[0m\n\u001b[1;32m    247\u001b[0m                             \u001b[0;34m'Length of passed values is {val}, '\u001b[0m\u001b[0;34m\u001b[0m\u001b[0;34m\u001b[0m\u001b[0m\n\u001b[1;32m    248\u001b[0m                             \u001b[0;34m'index implies {ind}'\u001b[0m\u001b[0;34m\u001b[0m\u001b[0;34m\u001b[0m\u001b[0m\n\u001b[0;32m--> 249\u001b[0;31m                             .format(val=len(data), ind=len(index)))\n\u001b[0m\u001b[1;32m    250\u001b[0m                 \u001b[0;32mexcept\u001b[0m \u001b[0mTypeError\u001b[0m\u001b[0;34m:\u001b[0m\u001b[0;34m\u001b[0m\u001b[0;34m\u001b[0m\u001b[0m\n\u001b[1;32m    251\u001b[0m                     \u001b[0;32mpass\u001b[0m\u001b[0;34m\u001b[0m\u001b[0;34m\u001b[0m\u001b[0m\n",
            "\u001b[0;31mValueError\u001b[0m: Length of passed values is 6, index implies 7"
          ]
        }
      ]
    },
    {
      "cell_type": "code",
      "metadata": {
        "id": "JQJDPOoZhdrg",
        "colab_type": "code",
        "colab": {}
      },
      "source": [
        "import pandas as pd\n",
        "\n",
        "Data =[1, 3, 5, 7, 9, 11, 13]\n",
        "Index =['a', 'b', 'c', 'd', 'e', 'f']  \n",
        "\n",
        "ser = pd.Series(Data, Index)  \n",
        "print(ser)"
      ],
      "execution_count": 0,
      "outputs": []
    },
    {
      "cell_type": "code",
      "metadata": {
        "id": "6rogB9YUhiKx",
        "colab_type": "code",
        "colab": {}
      },
      "source": [
        "Data =[[2, 3, 4], [5, 6, 7]]\n",
        "ser = pd.Series(Data)\n",
        "\n",
        "print(ser)\n",
        "\n",
        "Index=['a', 'b']\n",
        "ser_n = pd.Series(Data, Index)\n",
        "print(ser_n)"
      ],
      "execution_count": 0,
      "outputs": []
    },
    {
      "cell_type": "code",
      "metadata": {
        "id": "VSEZ1Iu3h5Rf",
        "colab_type": "code",
        "colab": {}
      },
      "source": [
        "import pandas as pd\n",
        "\n",
        "dict1 ={'a':1, 'b':2, 'c':3, 'd':4} \n",
        "dict2 ={'a':5, 'b':6, 'c':7, 'd':8, 'e':9} \n",
        "Data = {'first':dict1, 'second':dict2} \n",
        "df = pd.DataFrame(Data) \n",
        "\n",
        "print(df)"
      ],
      "execution_count": 0,
      "outputs": []
    },
    {
      "cell_type": "code",
      "metadata": {
        "id": "3-fH2AZniH4Y",
        "colab_type": "code",
        "colab": {}
      },
      "source": [
        "import pandas as pd\n",
        "\n",
        "dict1 ={'a':1, 'b':2, 'c':3, 'd':4} \n",
        "dict2 ={'a':5, 'b':6, 'c':7, 'd':8, 'e':9} \n",
        "Data = {'first':dict1, 'first':dict2} \n",
        "df = pd.DataFrame(Data) \n",
        "\n",
        "print(df)"
      ],
      "execution_count": 0,
      "outputs": []
    },
    {
      "cell_type": "code",
      "metadata": {
        "id": "KbjiwavpiP54",
        "colab_type": "code",
        "colab": {}
      },
      "source": [
        "import pandas as pd \n",
        "d1 =[[2, 3, 4], [5, 6, 7]] \n",
        "d2 =[[2, 4, 8], [1, 3, 9]] \n",
        "Data ={'first': d1, 'second': d2}   \n",
        "df2d = pd.DataFrame(Data) \n",
        "\n",
        "print(df2d)"
      ],
      "execution_count": 0,
      "outputs": []
    },
    {
      "cell_type": "code",
      "metadata": {
        "id": "wCPr10l1iu1p",
        "colab_type": "code",
        "colab": {}
      },
      "source": [
        "import pandas as pd\n",
        "\n",
        "nlist=[1, 2, 3, 4, 5, 6]\n",
        "df = pd.DataFrame(nlist)\n",
        "print(df)\n",
        "\n"
      ],
      "execution_count": 0,
      "outputs": []
    },
    {
      "cell_type": "code",
      "metadata": {
        "id": "eQpplQjCi6mN",
        "colab_type": "code",
        "colab": {}
      },
      "source": [
        "import pandas as pd\n",
        "\n",
        "nlist=[1, 2, 3, 4, 5, 6]\n",
        "df = pd.Dataframe(nlist)\n",
        "print(df)\n"
      ],
      "execution_count": 0,
      "outputs": []
    },
    {
      "cell_type": "code",
      "metadata": {
        "id": "Ywv5VrzTi_Pa",
        "colab_type": "code",
        "colab": {}
      },
      "source": [
        "import pandas as pd\n",
        " \n",
        "data = {'Name':['John', 'Jeff', 'Joe', 'Jess'],\n",
        "        'Age':[25, 28, 27, 32],\n",
        "        'Address':['Ohio', 'California', 'Arizona', 'New York'],\n",
        "        'Qualification':['BS', 'MS', 'MS', 'Phd']}\n",
        " \n",
        "df = pd.DataFrame(data)\n",
        " \n",
        "print(df[['Name', 'Qualification']])"
      ],
      "execution_count": 0,
      "outputs": []
    },
    {
      "cell_type": "code",
      "metadata": {
        "id": "cP8gJyF9hJpP",
        "colab_type": "code",
        "colab": {}
      },
      "source": [
        "from google.colab import files\n",
        "uploaded = files.upload()"
      ],
      "execution_count": 0,
      "outputs": []
    },
    {
      "cell_type": "code",
      "metadata": {
        "id": "ZPGGxc5BhQZN",
        "colab_type": "code",
        "colab": {}
      },
      "source": [
        "import pandas as pd\n",
        "data = pd.read_csv(\"nba.csv\", index_col=\"Name\")\n",
        "\n",
        "#print(data)\n",
        "\n",
        "first=data.loc[\"Avery Bradley\"]\n",
        "second=data.loc[\"R.J. Hunter\"]\n",
        "\n",
        "print(first)\n",
        "print(\"\\n\\n\")\n",
        "print(second)\n"
      ],
      "execution_count": 0,
      "outputs": []
    },
    {
      "cell_type": "code",
      "metadata": {
        "id": "n5yqFxaWjpBN",
        "colab_type": "code",
        "colab": {}
      },
      "source": [
        "import pandas as pd\n",
        "data = pd.read_csv(\"nba.csv\", index_col=\"Name\")\n",
        "\n",
        "first = data[\"Age\"]\n",
        "print(first)"
      ],
      "execution_count": 0,
      "outputs": []
    }
  ]
}