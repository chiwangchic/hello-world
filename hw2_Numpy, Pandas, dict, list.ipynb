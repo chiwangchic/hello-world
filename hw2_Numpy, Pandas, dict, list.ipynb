{
  "nbformat": 4,
  "nbformat_minor": 0,
  "metadata": {
    "anaconda-cloud": {},
    "celltoolbar": "Slideshow",
    "colab": {
      "name": "Copy of hm.ipynb",
      "provenance": [],
      "collapsed_sections": []
    },
    "kernelspec": {
      "display_name": "Python 3",
      "language": "python",
      "name": "python3"
    },
    "language_info": {
      "codemirror_mode": {
        "name": "ipython",
        "version": 3
      },
      "file_extension": ".py",
      "mimetype": "text/x-python",
      "name": "python",
      "nbconvert_exporter": "python",
      "pygments_lexer": "ipython3",
      "version": "3.6.9"
    }
  },
  "cells": [
    {
      "cell_type": "markdown",
      "metadata": {
        "colab_type": "text",
        "id": "sAf3Gsm5velW"
      },
      "source": [
        "## Introduction to Python Exercises\n",
        "\n",
        "![](https://github.com/rpi-techfundamentals/hm-01-starter/blob/master/notsaved.png?raw=1)\n",
        "\n",
        "**WARNING!!!  If you see this icon on the top of your COLAB sesssion, your work is not saved automatically.**\n",
        "\n",
        "**Save your working file in Google drive so that all changes will be saved as you work. MAKE SURE that your final version is saved to GitHub.** \n",
        "\n",
        "Before you turn this in, make sure everything runs as expected. First, restart the kernel (in the menu, select Kernel → Restart) and then run all cells (in the menubar, select Cell → Run All).  You can speak with others regarding the assignment but all work must be your own. \n",
        "\n",
        "\n",
        "### This is a 30 point assignment.\n",
        "\n",
        "**You may find it useful to go through the notebooks from the course materials when doing these exercises.**\n",
        "\n",
        "**If you attempt to fake passing the tests you will receive a 0 on the assignment and it will be considered an ethical violation.**"
      ]
    },
    {
      "cell_type": "code",
      "metadata": {
        "colab_type": "code",
        "id": "ziN7lGGlvela",
        "outputId": "15f3351e-d790-4fe4-e073-3bf40354cc05",
        "colab": {
          "base_uri": "https://localhost:8080/",
          "height": 1000
        }
      },
      "source": [
        "files = \"https://github.com/rpi-techfundamentals/hm-02-starter/raw/master/files.zip\"\n",
        "!pip install git+https://github.com/data-8/Gofer-Grader && wget $files && unzip -o files.zip"
      ],
      "execution_count": 1,
      "outputs": [
        {
          "output_type": "stream",
          "text": [
            "Collecting git+https://github.com/data-8/Gofer-Grader\n",
            "  Cloning https://github.com/data-8/Gofer-Grader to /tmp/pip-req-build-07n1ux6h\n",
            "  Running command git clone -q https://github.com/data-8/Gofer-Grader /tmp/pip-req-build-07n1ux6h\n",
            "Requirement already satisfied: jinja2 in /usr/local/lib/python3.6/dist-packages (from gofer-grader==1.0.9) (2.10.1)\n",
            "Requirement already satisfied: pygments in /usr/local/lib/python3.6/dist-packages (from gofer-grader==1.0.9) (2.1.3)\n",
            "Requirement already satisfied: tornado in /usr/local/lib/python3.6/dist-packages (from gofer-grader==1.0.9) (4.5.3)\n",
            "Requirement already satisfied: MarkupSafe>=0.23 in /usr/local/lib/python3.6/dist-packages (from jinja2->gofer-grader==1.0.9) (1.1.1)\n",
            "Building wheels for collected packages: gofer-grader\n",
            "  Building wheel for gofer-grader (setup.py) ... \u001b[?25l\u001b[?25hdone\n",
            "  Created wheel for gofer-grader: filename=gofer_grader-1.0.9-cp36-none-any.whl size=10115 sha256=4e383de55bca19513e1e7bb398f7bb0d698ab93fb30b488f50267c6744222aa2\n",
            "  Stored in directory: /tmp/pip-ephem-wheel-cache-g6g7klf5/wheels/9e/62/24/8563ae039051d6ba979557d1766bfebbda5dd08f8572e3e35d\n",
            "Successfully built gofer-grader\n",
            "Installing collected packages: gofer-grader\n",
            "Successfully installed gofer-grader-1.0.9\n",
            "--2019-09-19 22:22:58--  https://github.com/rpi-techfundamentals/hm-02-starter/raw/master/files.zip\n",
            "Resolving github.com (github.com)... 192.30.253.113\n",
            "Connecting to github.com (github.com)|192.30.253.113|:443... connected.\n",
            "HTTP request sent, awaiting response... 302 Found\n",
            "Location: https://raw.githubusercontent.com/rpi-techfundamentals/hm-02-starter/master/files.zip [following]\n",
            "--2019-09-19 22:22:58--  https://raw.githubusercontent.com/rpi-techfundamentals/hm-02-starter/master/files.zip\n",
            "Resolving raw.githubusercontent.com (raw.githubusercontent.com)... 151.101.0.133, 151.101.64.133, 151.101.128.133, ...\n",
            "Connecting to raw.githubusercontent.com (raw.githubusercontent.com)|151.101.0.133|:443... connected.\n",
            "HTTP request sent, awaiting response... 200 OK\n",
            "Length: 10753 (11K) [application/zip]\n",
            "Saving to: ‘files.zip’\n",
            "\n",
            "files.zip           100%[===================>]  10.50K  --.-KB/s    in 0s      \n",
            "\n",
            "2019-09-19 22:22:58 (133 MB/s) - ‘files.zip’ saved [10753/10753]\n",
            "\n",
            "Archive:  files.zip\n",
            "   creating: tests/\n",
            "  inflating: tests/q25.py            \n",
            "  inflating: tests/q11.py            \n",
            "  inflating: tests/q15.py            \n",
            "  inflating: tests/q21.py            \n",
            " extracting: tests/__init__.py       \n",
            "  inflating: tests/q14.py            \n",
            "  inflating: tests/q20.py            \n",
            "  inflating: tests/q24.py            \n",
            "  inflating: tests/q10.py            \n",
            "  inflating: tests/qname.py          \n",
            "  inflating: tests/q07.py            \n",
            "  inflating: tests/q17.py            \n",
            "  inflating: tests/q23.py            \n",
            "  inflating: tests/q03.py            \n",
            "  inflating: tests/q27.py            \n",
            "  inflating: tests/q13.py            \n",
            "  inflating: tests/q02.py            \n",
            "  inflating: tests/q26.py            \n",
            "   creating: __MACOSX/\n",
            "   creating: __MACOSX/tests/\n",
            "  inflating: __MACOSX/tests/._q26.py  \n",
            "  inflating: tests/q12.py            \n",
            "  inflating: tests/q06.py            \n",
            "  inflating: tests/q16.py            \n",
            "  inflating: tests/q22.py            \n",
            "   creating: tests/.ipynb_checkpoints/\n",
            "  inflating: tests/q09.py            \n",
            "  inflating: tests/q19.py            \n",
            "  inflating: tests/q08.py            \n",
            "  inflating: tests/q18.py            \n",
            "  inflating: hm02.ok                 \n",
            "  inflating: iris.csv                \n",
            "  inflating: __MACOSX/._iris.csv     \n"
          ],
          "name": "stdout"
        }
      ]
    },
    {
      "cell_type": "code",
      "metadata": {
        "colab_type": "code",
        "id": "AdVbmM-tveli",
        "colab": {}
      },
      "source": [
        "#This loads the grading software.  If you later get a \"failed to import OK.py\" you need to rerun.\n",
        "from client.api.notebook import Notebook\n",
        "ok = Notebook('hm02.ok')\n",
        "_ = ok.auth(inline=True)"
      ],
      "execution_count": 0,
      "outputs": []
    },
    {
      "cell_type": "markdown",
      "metadata": {
        "colab_type": "text",
        "id": "3mHHPuQOvemq"
      },
      "source": [
        "## Exercise-Packages\n",
        "\n",
        "This creates an Numpy array. Numpy is a common package that we will use to work with arrays. You can read more about Numpy [here](http://www.numpy.org/). \n",
        "\n",
        "```\n",
        "a = np.array([2,3,4])\n",
        "print(a)\n",
        "```\n",
        "\n",
        "To get this to work, you will have to make sure that the numpy(np) package is installed. \n",
        "\n",
        "(1) Verify that Numpy is installed. How did you know?  \n",
        "Describe how you would you install it if it wasn't installed?\n"
      ]
    },
    {
      "cell_type": "code",
      "metadata": {
        "colab_type": "code",
        "id": "9SRVAJkUvemt",
        "colab": {}
      },
      "source": [
        "man1=\"\"\"\n",
        "If we don't install Numpy package and import it as np before, the command lines will result in an error: name 'np' is not defined.\n",
        "If importing successfully, we can print out the array of rank 1 [2 3 4]. \n",
        "\"\"\""
      ],
      "execution_count": 0,
      "outputs": []
    },
    {
      "cell_type": "markdown",
      "metadata": {
        "colab_type": "text",
        "id": "zeDVp2Sivemw"
      },
      "source": [
        "(2) Fix the cell below so that `a` is a `numpy` array."
      ]
    },
    {
      "cell_type": "code",
      "metadata": {
        "colab_type": "code",
        "id": "Sei-Ye83vemx",
        "outputId": "24c17440-67e3-4f87-ff9e-2856143e70bd",
        "colab": {
          "base_uri": "https://localhost:8080/",
          "height": 34
        }
      },
      "source": [
        "#Fix this code of q2. \n",
        "import numpy as np\n",
        "\n",
        "a = np.array([5,6,7,8])\n",
        "print(a, type(a))\n"
      ],
      "execution_count": 4,
      "outputs": [
        {
          "output_type": "stream",
          "text": [
            "[5 6 7 8] <class 'numpy.ndarray'>\n"
          ],
          "name": "stdout"
        }
      ]
    },
    {
      "cell_type": "code",
      "metadata": {
        "colab_type": "code",
        "id": "U8SBYHzCvenG",
        "outputId": "92d55453-2e40-4437-aae5-791d46053d0e",
        "colab": {
          "base_uri": "https://localhost:8080/",
          "height": 46
        }
      },
      "source": [
        "_ = ok.grade('q02')"
      ],
      "execution_count": 5,
      "outputs": [
        {
          "output_type": "display_data",
          "data": {
            "text/html": [
              "\n",
              "    \n",
              "    \n",
              "        <p>All tests passed!</p>\n",
              "    \n",
              "    "
            ],
            "text/plain": [
              "<gofer.ok.OKTestsResult at 0x7fbf76f6da20>"
            ]
          },
          "metadata": {
            "tags": []
          }
        }
      ]
    },
    {
      "cell_type": "markdown",
      "metadata": {
        "colab_type": "text",
        "id": "JPQJGf-4venI"
      },
      "source": [
        "(3) Create a numpy array `b` with the values `12, 13, 14, 15`.\n",
        "\n"
      ]
    },
    {
      "cell_type": "code",
      "metadata": {
        "colab_type": "code",
        "id": "ZCnMrkR7venI",
        "outputId": "49d9edea-2b4f-45fe-ec66-bace32f1b107",
        "colab": {
          "base_uri": "https://localhost:8080/",
          "height": 34
        }
      },
      "source": [
        "#<insert q3 code here>\n",
        "b = np.array([12, 13, 14, 15])\n",
        "print(b)"
      ],
      "execution_count": 6,
      "outputs": [
        {
          "output_type": "stream",
          "text": [
            "[12 13 14 15]\n"
          ],
          "name": "stdout"
        }
      ]
    },
    {
      "cell_type": "code",
      "metadata": {
        "colab_type": "code",
        "id": "zR8TxGqIvenQ",
        "outputId": "3b5f46c3-abe0-48a2-c904-ea6a17610f99",
        "colab": {
          "base_uri": "https://localhost:8080/",
          "height": 46
        }
      },
      "source": [
        "_ = ok.grade('q03')"
      ],
      "execution_count": 7,
      "outputs": [
        {
          "output_type": "display_data",
          "data": {
            "text/html": [
              "\n",
              "    \n",
              "    \n",
              "        <p>All tests passed!</p>\n",
              "    \n",
              "    "
            ],
            "text/plain": [
              "<gofer.ok.OKTestsResult at 0x7fbf76f6da20>"
            ]
          },
          "metadata": {
            "tags": []
          }
        }
      ]
    },
    {
      "cell_type": "markdown",
      "metadata": {
        "colab_type": "text",
        "id": "mw3XWpwLvend"
      },
      "source": [
        "## Exercise - Operations on Variables\n",
        "\n",
        "(4) Describe what happens when you multiply an integer times a boolean? \n",
        "What is the resulting type? Provide examples.\n"
      ]
    },
    {
      "cell_type": "code",
      "metadata": {
        "colab_type": "code",
        "id": "tE8mUzMDvend",
        "colab": {}
      },
      "source": [
        "#You must assign your answer to q4_answer. \n",
        "man4=\"\"\"\n",
        "When we multiply an int with a boolean, the boolean will be converted to an int, with \"True\" becoming 1 and \"False\" becoming 0. The data type of the multiplication result is an interger.\n",
        "For example, When we set:\n",
        "a = False\n",
        "b = 2\n",
        "c = a * b\n",
        "print(c)            # 0\n",
        "print(type(c))      # <class 'int'>\n",
        "\n",
        "We can find that \"c\" will be an int with value 0 because \"a\" is converted into an int with value 0. \n",
        "\n",
        "On the other side, if:\n",
        "a = True\n",
        "b = 2\n",
        "c = a * b\n",
        "print(c)            # 2\n",
        "print(type(c))      # <class 'int'>\n",
        "\n",
        "\n",
        "\"c\" will be an int with value = 2 because \"a\" becomes an int with value 1.\n",
        "\"\"\""
      ],
      "execution_count": 0,
      "outputs": []
    },
    {
      "cell_type": "markdown",
      "metadata": {
        "colab_type": "text",
        "id": "GYgxT58dvenf"
      },
      "source": [
        "(5) Describe happens when you try to multiply an integer value times a null?"
      ]
    },
    {
      "cell_type": "code",
      "metadata": {
        "colab_type": "code",
        "id": "q3-_3HZbveng",
        "colab": {}
      },
      "source": [
        "man5=\"\"\"\n",
        "There will be an error: unsupported operand type(s) for *: 'NoneType' and 'int'. We can't multiply with an empty-state variable.\n",
        "\"\"\"\n"
      ],
      "execution_count": 0,
      "outputs": []
    },
    {
      "cell_type": "markdown",
      "metadata": {
        "colab_type": "text",
        "id": "mmJfgNELvenh"
      },
      "source": [
        "(6) Take 5 to the power of 4 and assign it to a variable `c`. Then transform the variable `c` to a type `float`. "
      ]
    },
    {
      "cell_type": "code",
      "metadata": {
        "colab_type": "code",
        "id": "rCKk0Jleveni",
        "outputId": "2af03446-199d-41ec-aeae-ce86d5e2f612",
        "colab": {
          "base_uri": "https://localhost:8080/",
          "height": 34
        }
      },
      "source": [
        "#<insert q6 code here>\n",
        "c = float(5**4)\n",
        "print(c)"
      ],
      "execution_count": 10,
      "outputs": [
        {
          "output_type": "stream",
          "text": [
            "625.0\n"
          ],
          "name": "stdout"
        }
      ]
    },
    {
      "cell_type": "code",
      "metadata": {
        "colab_type": "code",
        "id": "KF0GNcPCvenk",
        "outputId": "4adfb41f-668b-452c-d75e-36642f1043d2",
        "colab": {
          "base_uri": "https://localhost:8080/",
          "height": 46
        }
      },
      "source": [
        "_ = ok.grade('q06')"
      ],
      "execution_count": 11,
      "outputs": [
        {
          "output_type": "display_data",
          "data": {
            "text/html": [
              "\n",
              "    \n",
              "    \n",
              "        <p>All tests passed!</p>\n",
              "    \n",
              "    "
            ],
            "text/plain": [
              "<gofer.ok.OKTestsResult at 0x7fbf75d2a198>"
            ]
          },
          "metadata": {
            "tags": []
          }
        }
      ]
    },
    {
      "cell_type": "markdown",
      "metadata": {
        "colab_type": "text",
        "id": "BUuwcdISvenl"
      },
      "source": [
        "## Exercise-Lists\n",
        "Hint: [This link is useful.](https://docs.python.org/3/tutorial/datastructures.html#more-on-lists) as is the process of tab completion (using tab to find available methods of an object).\n",
        "\n",
        "(7) Create a list `elist1` with the following values `1,2,3,4,5`.<br>\n"
      ]
    },
    {
      "cell_type": "code",
      "metadata": {
        "colab_type": "code",
        "id": "Ez-K3n65venl",
        "outputId": "b3408256-4e55-4139-9606-84a7f08734ea",
        "colab": {
          "base_uri": "https://localhost:8080/",
          "height": 34
        }
      },
      "source": [
        "#<insert q7 code here>\n",
        "elist1 = [1,2,3,4,5]\n",
        "print(elist1)"
      ],
      "execution_count": 12,
      "outputs": [
        {
          "output_type": "stream",
          "text": [
            "[1, 2, 3, 4, 5]\n"
          ],
          "name": "stdout"
        }
      ]
    },
    {
      "cell_type": "markdown",
      "metadata": {
        "id": "jvRnMZNG9TWB",
        "colab_type": "text"
      },
      "source": [
        ""
      ]
    },
    {
      "cell_type": "code",
      "metadata": {
        "colab_type": "code",
        "id": "IC0OKhjFvenn",
        "outputId": "232dc850-36fd-4219-f495-04b6dfc6fd8b",
        "colab": {
          "base_uri": "https://localhost:8080/",
          "height": 46
        }
      },
      "source": [
        "_ = ok.grade('q07')"
      ],
      "execution_count": 13,
      "outputs": [
        {
          "output_type": "display_data",
          "data": {
            "text/html": [
              "\n",
              "    \n",
              "    \n",
              "        <p>All tests passed!</p>\n",
              "    \n",
              "    "
            ],
            "text/plain": [
              "<gofer.ok.OKTestsResult at 0x7fbf75d2a7b8>"
            ]
          },
          "metadata": {
            "tags": []
          }
        }
      ]
    },
    {
      "cell_type": "markdown",
      "metadata": {
        "colab_type": "text",
        "id": "RlyO4sm0venp"
      },
      "source": [
        "(8) Create a new list `elist2` by first creating a copy of `elist1` and then reversing the order.\n",
        "\n",
        "*HINT, remember there is a specific function to copy a list.* \n"
      ]
    },
    {
      "cell_type": "code",
      "metadata": {
        "colab_type": "code",
        "id": "NH7kHN_xvenq",
        "outputId": "5f1e8953-0fbe-4881-cd23-c8df96fbcedf",
        "colab": {
          "base_uri": "https://localhost:8080/",
          "height": 34
        }
      },
      "source": [
        "#<insert q8 code here>\n",
        "elist2 = elist1.copy()\n",
        "elist2.reverse()\n",
        "print(elist2)"
      ],
      "execution_count": 14,
      "outputs": [
        {
          "output_type": "stream",
          "text": [
            "[5, 4, 3, 2, 1]\n"
          ],
          "name": "stdout"
        }
      ]
    },
    {
      "cell_type": "code",
      "metadata": {
        "colab_type": "code",
        "id": "U_AjuZaSvenr",
        "outputId": "53f9d4c7-9854-4169-f021-d2f766649dfd",
        "colab": {
          "base_uri": "https://localhost:8080/",
          "height": 46
        }
      },
      "source": [
        "_ = ok.grade('q08')"
      ],
      "execution_count": 15,
      "outputs": [
        {
          "output_type": "display_data",
          "data": {
            "text/html": [
              "\n",
              "    \n",
              "    \n",
              "        <p>All tests passed!</p>\n",
              "    \n",
              "    "
            ],
            "text/plain": [
              "<gofer.ok.OKTestsResult at 0x7fbf75d2a940>"
            ]
          },
          "metadata": {
            "tags": []
          }
        }
      ]
    },
    {
      "cell_type": "markdown",
      "metadata": {
        "colab_type": "text",
        "id": "mZS4sc4Zvenu"
      },
      "source": [
        "(9) Create a new list `elist3` by first creating a copy of `elist1` and then adding `7, 8, 9` to the end. (Hint: Search for a different function if appending doesn't work.) "
      ]
    },
    {
      "cell_type": "code",
      "metadata": {
        "colab_type": "code",
        "id": "qOM-WIoEvenu",
        "outputId": "0715bd6b-b78a-47be-b4db-61d06e593f7b",
        "colab": {
          "base_uri": "https://localhost:8080/",
          "height": 34
        }
      },
      "source": [
        "#<insert q9 code here>\n",
        "elist3 = elist1.copy()\n",
        "elist3.extend([7,8,9])\n",
        "print(elist3)"
      ],
      "execution_count": 16,
      "outputs": [
        {
          "output_type": "stream",
          "text": [
            "[1, 2, 3, 4, 5, 7, 8, 9]\n"
          ],
          "name": "stdout"
        }
      ]
    },
    {
      "cell_type": "code",
      "metadata": {
        "colab_type": "code",
        "id": "3oHqLKmsvenw",
        "outputId": "08e12131-8685-40bb-daa4-e693abb11d09",
        "colab": {
          "base_uri": "https://localhost:8080/",
          "height": 46
        }
      },
      "source": [
        "_ = ok.grade('q09')"
      ],
      "execution_count": 17,
      "outputs": [
        {
          "output_type": "display_data",
          "data": {
            "text/html": [
              "\n",
              "    \n",
              "    \n",
              "        <p>All tests passed!</p>\n",
              "    \n",
              "    "
            ],
            "text/plain": [
              "<gofer.ok.OKTestsResult at 0x7fbf75d2ab38>"
            ]
          },
          "metadata": {
            "tags": []
          }
        }
      ]
    },
    {
      "cell_type": "markdown",
      "metadata": {
        "colab_type": "text",
        "id": "IyrzEdqTven2"
      },
      "source": [
        "(10) Create a new list `elist4` by first creating a copy of `elist3` and then insert `6` between `5` and `7`."
      ]
    },
    {
      "cell_type": "code",
      "metadata": {
        "colab_type": "code",
        "id": "gFgUlCpeven3",
        "outputId": "ce4517b4-4651-4a72-e7b1-a99fef7490f5",
        "colab": {
          "base_uri": "https://localhost:8080/",
          "height": 34
        }
      },
      "source": [
        "#<insert q10 code here>\n",
        "elist4 = elist3.copy()\n",
        "elist4.insert(5,6)\n",
        "print(elist4)"
      ],
      "execution_count": 18,
      "outputs": [
        {
          "output_type": "stream",
          "text": [
            "[1, 2, 3, 4, 5, 6, 7, 8, 9]\n"
          ],
          "name": "stdout"
        }
      ]
    },
    {
      "cell_type": "code",
      "metadata": {
        "colab_type": "code",
        "id": "8WLUG12Iven5",
        "outputId": "f005bdbf-f0b6-4bda-e668-ae6e9f69747a",
        "colab": {
          "base_uri": "https://localhost:8080/",
          "height": 46
        }
      },
      "source": [
        "_ = ok.grade('q10')"
      ],
      "execution_count": 19,
      "outputs": [
        {
          "output_type": "display_data",
          "data": {
            "text/html": [
              "\n",
              "    \n",
              "    \n",
              "        <p>All tests passed!</p>\n",
              "    \n",
              "    "
            ],
            "text/plain": [
              "<gofer.ok.OKTestsResult at 0x7fbf75d2a898>"
            ]
          },
          "metadata": {
            "tags": []
          }
        }
      ]
    },
    {
      "cell_type": "markdown",
      "metadata": {
        "colab_type": "text",
        "id": "rw6Sh0gWven7"
      },
      "source": [
        "## Exercise-Sets/Dictionary\n",
        "\n",
        "This [link to documentation on sets](https://docs.python.org/3/tutorial/datastructures.html#sets) may be useful.\n",
        "\n",
        "(11) Create a set `eset1` with the following values (1,2,3,4,5).\n"
      ]
    },
    {
      "cell_type": "code",
      "metadata": {
        "colab_type": "code",
        "id": "mte4CjMRven7",
        "outputId": "cb0a3bc9-2f81-4b98-d27d-35f5dba731cd",
        "colab": {
          "base_uri": "https://localhost:8080/",
          "height": 34
        }
      },
      "source": [
        "#<insert q11 code here>\n",
        "eset1 = set(range(1,6))\n",
        "print(eset1)"
      ],
      "execution_count": 20,
      "outputs": [
        {
          "output_type": "stream",
          "text": [
            "{1, 2, 3, 4, 5}\n"
          ],
          "name": "stdout"
        }
      ]
    },
    {
      "cell_type": "code",
      "metadata": {
        "colab_type": "code",
        "id": "ATousioRven-",
        "outputId": "f7b8aa4e-5a3e-4a09-bbfd-e3f2b82ae407",
        "colab": {
          "base_uri": "https://localhost:8080/",
          "height": 46
        }
      },
      "source": [
        "_ = ok.grade('q11')"
      ],
      "execution_count": 21,
      "outputs": [
        {
          "output_type": "display_data",
          "data": {
            "text/html": [
              "\n",
              "    \n",
              "    \n",
              "        <p>All tests passed!</p>\n",
              "    \n",
              "    "
            ],
            "text/plain": [
              "<gofer.ok.OKTestsResult at 0x7fbf75d2ac50>"
            ]
          },
          "metadata": {
            "tags": []
          }
        }
      ]
    },
    {
      "cell_type": "markdown",
      "metadata": {
        "colab_type": "text",
        "id": "jRJFjKF8veoB"
      },
      "source": [
        "\n",
        "(12) Create a new set `eset2` the following values (1,3,6).\n",
        "\n"
      ]
    },
    {
      "cell_type": "code",
      "metadata": {
        "colab_type": "code",
        "id": "gBMvn0lBveoC",
        "outputId": "82870549-8439-4ac1-f5e2-8650ec793cd8",
        "colab": {
          "base_uri": "https://localhost:8080/",
          "height": 34
        }
      },
      "source": [
        "#<insert q12 code here>\n",
        "eset2 = set([1,3,6])\n",
        "print(eset2)"
      ],
      "execution_count": 22,
      "outputs": [
        {
          "output_type": "stream",
          "text": [
            "{1, 3, 6}\n"
          ],
          "name": "stdout"
        }
      ]
    },
    {
      "cell_type": "code",
      "metadata": {
        "colab_type": "code",
        "id": "gxis27MfveoI",
        "outputId": "6be46d71-f46c-44c9-f87f-494ee7f743e1",
        "colab": {
          "base_uri": "https://localhost:8080/",
          "height": 46
        }
      },
      "source": [
        "_ = ok.grade('q12')"
      ],
      "execution_count": 23,
      "outputs": [
        {
          "output_type": "display_data",
          "data": {
            "text/html": [
              "\n",
              "    \n",
              "    \n",
              "        <p>All tests passed!</p>\n",
              "    \n",
              "    "
            ],
            "text/plain": [
              "<gofer.ok.OKTestsResult at 0x7fbf75d2aa90>"
            ]
          },
          "metadata": {
            "tags": []
          }
        }
      ]
    },
    {
      "cell_type": "markdown",
      "metadata": {
        "colab_type": "text",
        "id": "PJo2iKx5veoP"
      },
      "source": [
        "(13) Create a new set `eset3` that is `eset1-eset2`.\n",
        "\n"
      ]
    },
    {
      "cell_type": "code",
      "metadata": {
        "colab_type": "code",
        "id": "-MWFYYgzveoQ",
        "outputId": "185195fe-54b9-471a-cdac-571092cba8df",
        "colab": {
          "base_uri": "https://localhost:8080/",
          "height": 34
        }
      },
      "source": [
        "#<insert q13 code here>\n",
        "eset3 = eset1 - eset2\n",
        "print(eset3)"
      ],
      "execution_count": 24,
      "outputs": [
        {
          "output_type": "stream",
          "text": [
            "{2, 4, 5}\n"
          ],
          "name": "stdout"
        }
      ]
    },
    {
      "cell_type": "code",
      "metadata": {
        "colab_type": "code",
        "id": "NFEbonxWveoS",
        "outputId": "867249d5-be19-487b-bb15-c60a4d12c5e3",
        "colab": {
          "base_uri": "https://localhost:8080/",
          "height": 46
        }
      },
      "source": [
        "_ = ok.grade('q13')"
      ],
      "execution_count": 25,
      "outputs": [
        {
          "output_type": "display_data",
          "data": {
            "text/html": [
              "\n",
              "    \n",
              "    \n",
              "        <p>All tests passed!</p>\n",
              "    \n",
              "    "
            ],
            "text/plain": [
              "<gofer.ok.OKTestsResult at 0x7fbf75d2ad68>"
            ]
          },
          "metadata": {
            "tags": []
          }
        }
      ]
    },
    {
      "cell_type": "markdown",
      "metadata": {
        "colab_type": "text",
        "id": "WvXjhLl6veoW"
      },
      "source": [
        "(14) Create a new set `eset4` that is the union of `eset1+eset2`.\n"
      ]
    },
    {
      "cell_type": "code",
      "metadata": {
        "colab_type": "code",
        "id": "R3OgsaWmveoX",
        "outputId": "77f1a9a5-512f-4278-fa6c-2c633328eb70",
        "colab": {
          "base_uri": "https://localhost:8080/",
          "height": 34
        }
      },
      "source": [
        "#<insert q14 code here>\n",
        "eset4 = eset1 | eset2\n",
        "print(eset4)"
      ],
      "execution_count": 26,
      "outputs": [
        {
          "output_type": "stream",
          "text": [
            "{1, 2, 3, 4, 5, 6}\n"
          ],
          "name": "stdout"
        }
      ]
    },
    {
      "cell_type": "code",
      "metadata": {
        "colab_type": "code",
        "id": "Pu77neIrveoZ",
        "outputId": "7cacb75c-36d8-4332-9936-da5140f58b57",
        "colab": {
          "base_uri": "https://localhost:8080/",
          "height": 46
        }
      },
      "source": [
        "_ = ok.grade('q14')"
      ],
      "execution_count": 27,
      "outputs": [
        {
          "output_type": "display_data",
          "data": {
            "text/html": [
              "\n",
              "    \n",
              "    \n",
              "        <p>All tests passed!</p>\n",
              "    \n",
              "    "
            ],
            "text/plain": [
              "<gofer.ok.OKTestsResult at 0x7fbf75d2aa58>"
            ]
          },
          "metadata": {
            "tags": []
          }
        }
      ]
    },
    {
      "cell_type": "markdown",
      "metadata": {
        "colab_type": "text",
        "id": "_gKiO2weveob"
      },
      "source": [
        "\n",
        "(15) Create a new set `eset5` that includes values that are in both `eset1` and `eset2` (intersection).\n",
        "\n"
      ]
    },
    {
      "cell_type": "code",
      "metadata": {
        "colab_type": "code",
        "id": "-vehzEgxveoc",
        "outputId": "f6672c4f-f30b-4200-8ce8-094b6c4aca7f",
        "colab": {
          "base_uri": "https://localhost:8080/",
          "height": 34
        }
      },
      "source": [
        "#<insert q15 code here>\n",
        "eset5 = eset1 & eset2\n",
        "print(eset5)"
      ],
      "execution_count": 28,
      "outputs": [
        {
          "output_type": "stream",
          "text": [
            "{1, 3}\n"
          ],
          "name": "stdout"
        }
      ]
    },
    {
      "cell_type": "code",
      "metadata": {
        "colab_type": "code",
        "id": "-oR1AM5Sveoe",
        "outputId": "dda904d8-04da-46c7-9e48-466bb689226c",
        "colab": {
          "base_uri": "https://localhost:8080/",
          "height": 46
        }
      },
      "source": [
        "_ = ok.grade('q15')"
      ],
      "execution_count": 29,
      "outputs": [
        {
          "output_type": "display_data",
          "data": {
            "text/html": [
              "\n",
              "    \n",
              "    \n",
              "        <p>All tests passed!</p>\n",
              "    \n",
              "    "
            ],
            "text/plain": [
              "<gofer.ok.OKTestsResult at 0x7fbf75d2aa58>"
            ]
          },
          "metadata": {
            "tags": []
          }
        }
      ]
    },
    {
      "cell_type": "markdown",
      "metadata": {
        "id": "ULRsatf1JL_O",
        "colab_type": "text"
      },
      "source": [
        ""
      ]
    },
    {
      "cell_type": "markdown",
      "metadata": {
        "colab_type": "text",
        "id": "O77S6aEvveof"
      },
      "source": [
        "(16) Create a new dict `edict1` with the following keys and associated values: st1=45; st2=32; st3=40; st4=31.\n",
        "\n",
        "*Hint: There is a good section on dictionaries [here](https://docs.python.org/3/tutorial/datastructures.html#dictionaries).\n"
      ]
    },
    {
      "cell_type": "code",
      "metadata": {
        "colab_type": "code",
        "id": "dALoqnlmveog",
        "outputId": "0a209ab5-3b14-4442-845d-696c09e1ce1b",
        "colab": {
          "base_uri": "https://localhost:8080/",
          "height": 34
        }
      },
      "source": [
        "#<insert q16 code here>\n",
        "edict1 = {\"st1\": 45, \"st2\": 32, \"st3\": 40, \"st4\": 31}\n",
        "print(edict1)"
      ],
      "execution_count": 30,
      "outputs": [
        {
          "output_type": "stream",
          "text": [
            "{'st1': 45, 'st2': 32, 'st3': 40, 'st4': 31}\n"
          ],
          "name": "stdout"
        }
      ]
    },
    {
      "cell_type": "code",
      "metadata": {
        "colab_type": "code",
        "id": "iTa-j24Cveok",
        "outputId": "f1dbae6c-a7e1-432b-8f1e-2886d209ae0f",
        "colab": {
          "base_uri": "https://localhost:8080/",
          "height": 46
        }
      },
      "source": [
        "_ = ok.grade('q16')"
      ],
      "execution_count": 31,
      "outputs": [
        {
          "output_type": "display_data",
          "data": {
            "text/html": [
              "\n",
              "    \n",
              "    \n",
              "        <p>All tests passed!</p>\n",
              "    \n",
              "    "
            ],
            "text/plain": [
              "<gofer.ok.OKTestsResult at 0x7fbf75d2a160>"
            ]
          },
          "metadata": {
            "tags": []
          }
        }
      ]
    },
    {
      "cell_type": "markdown",
      "metadata": {
        "colab_type": "text",
        "id": "DPUG_c91veol"
      },
      "source": [
        "\n",
        "(17) Create a new variable `key1` where the value is equal to the value of dictionary edict1 with key `st3`."
      ]
    },
    {
      "cell_type": "code",
      "metadata": {
        "colab_type": "code",
        "id": "57DB91zWveom",
        "outputId": "6f9e1794-bb44-44a8-e304-ec016c6fcb37",
        "colab": {
          "base_uri": "https://localhost:8080/",
          "height": 34
        }
      },
      "source": [
        "#<insert q17 code here>\n",
        "key1 = edict1[\"st3\"]\n",
        "print(key1)"
      ],
      "execution_count": 32,
      "outputs": [
        {
          "output_type": "stream",
          "text": [
            "40\n"
          ],
          "name": "stdout"
        }
      ]
    },
    {
      "cell_type": "code",
      "metadata": {
        "colab_type": "code",
        "id": "SI0poMQbveoo",
        "outputId": "851482f3-9897-476a-c1a7-29417f665367",
        "colab": {
          "base_uri": "https://localhost:8080/",
          "height": 46
        }
      },
      "source": [
        "_ = ok.grade('q17')"
      ],
      "execution_count": 33,
      "outputs": [
        {
          "output_type": "display_data",
          "data": {
            "text/html": [
              "\n",
              "    \n",
              "    \n",
              "        <p>All tests passed!</p>\n",
              "    \n",
              "    "
            ],
            "text/plain": [
              "<gofer.ok.OKTestsResult at 0x7fbf75d2a160>"
            ]
          },
          "metadata": {
            "tags": []
          }
        }
      ]
    },
    {
      "cell_type": "markdown",
      "metadata": {
        "colab_type": "text",
        "id": "WCTH_R82veou"
      },
      "source": [
        "# Exercise-Numpy Array\n",
        "\n",
        "(18) Create a new numpy array `nparray1` that is 3x3 and all the number 3 (should be integer type).\n",
        "\n"
      ]
    },
    {
      "cell_type": "code",
      "metadata": {
        "colab_type": "code",
        "id": "qP9SkH5Dveou",
        "outputId": "8fedc6dd-8d2d-422c-ecf0-a53c0edaa208",
        "colab": {
          "base_uri": "https://localhost:8080/",
          "height": 68
        }
      },
      "source": [
        "#<insert q18 code here>\n",
        "nparray1 = np.full((3,3),3)\n",
        "print(nparray1)"
      ],
      "execution_count": 34,
      "outputs": [
        {
          "output_type": "stream",
          "text": [
            "[[3 3 3]\n",
            " [3 3 3]\n",
            " [3 3 3]]\n"
          ],
          "name": "stdout"
        }
      ]
    },
    {
      "cell_type": "code",
      "metadata": {
        "colab_type": "code",
        "id": "e5KhrEPPveoy",
        "outputId": "d63386b0-82e0-4991-a57c-ebff5fa07f0c",
        "colab": {
          "base_uri": "https://localhost:8080/",
          "height": 46
        }
      },
      "source": [
        "_ = ok.grade('q18')"
      ],
      "execution_count": 35,
      "outputs": [
        {
          "output_type": "display_data",
          "data": {
            "text/html": [
              "\n",
              "    \n",
              "    \n",
              "        <p>All tests passed!</p>\n",
              "    \n",
              "    "
            ],
            "text/plain": [
              "<gofer.ok.OKTestsResult at 0x7fbf75d2a160>"
            ]
          },
          "metadata": {
            "tags": []
          }
        }
      ]
    },
    {
      "cell_type": "markdown",
      "metadata": {
        "colab_type": "text",
        "id": "WIGePWRzveo0"
      },
      "source": [
        "\n",
        "(19) Create a new variable `nparray1sum` that sums all of column 0.\n"
      ]
    },
    {
      "cell_type": "code",
      "metadata": {
        "colab_type": "code",
        "id": "YszPYNJXveo1",
        "outputId": "69daedee-7a87-46de-8ab4-67fbf5bffb47",
        "colab": {
          "base_uri": "https://localhost:8080/",
          "height": 34
        }
      },
      "source": [
        "#<insert q19 code here>\n",
        "sliced_nparray1 = nparray1[:3,0]\n",
        "nparray1sum = sliced_nparray1.sum()\n",
        "print(nparray1sum)"
      ],
      "execution_count": 36,
      "outputs": [
        {
          "output_type": "stream",
          "text": [
            "9\n"
          ],
          "name": "stdout"
        }
      ]
    },
    {
      "cell_type": "code",
      "metadata": {
        "colab_type": "code",
        "id": "PStOnlUqveo3",
        "outputId": "a3ffeb08-f453-4d5c-98c1-1a5d49fab05a",
        "colab": {
          "base_uri": "https://localhost:8080/",
          "height": 46
        }
      },
      "source": [
        "_ = ok.grade('q19')"
      ],
      "execution_count": 37,
      "outputs": [
        {
          "output_type": "display_data",
          "data": {
            "text/html": [
              "\n",
              "    \n",
              "    \n",
              "        <p>All tests passed!</p>\n",
              "    \n",
              "    "
            ],
            "text/plain": [
              "<gofer.ok.OKTestsResult at 0x7fbf75d38630>"
            ]
          },
          "metadata": {
            "tags": []
          }
        }
      ]
    },
    {
      "cell_type": "markdown",
      "metadata": {
        "colab_type": "text",
        "id": "ewCdbT57veo6"
      },
      "source": [
        "(20) Create a new variable `nparray1mean` that takes the average of column 0.\n"
      ]
    },
    {
      "cell_type": "code",
      "metadata": {
        "colab_type": "code",
        "id": "kWYaDvQcveo7",
        "outputId": "8aa481b6-e6a4-4667-8ebc-eee4eb0998af",
        "colab": {
          "base_uri": "https://localhost:8080/",
          "height": 34
        }
      },
      "source": [
        "#<insert q20 code here>\n",
        "nparray1mean = np.average(sliced_nparray1)\n",
        "print(nparray1mean)"
      ],
      "execution_count": 38,
      "outputs": [
        {
          "output_type": "stream",
          "text": [
            "3.0\n"
          ],
          "name": "stdout"
        }
      ]
    },
    {
      "cell_type": "code",
      "metadata": {
        "colab_type": "code",
        "id": "oglCgM9Sveo8",
        "outputId": "a98de447-5c88-4055-8ac3-2bee0bc9b183",
        "colab": {
          "base_uri": "https://localhost:8080/",
          "height": 46
        }
      },
      "source": [
        "_ = ok.grade('q20')"
      ],
      "execution_count": 39,
      "outputs": [
        {
          "output_type": "display_data",
          "data": {
            "text/html": [
              "\n",
              "    \n",
              "    \n",
              "        <p>All tests passed!</p>\n",
              "    \n",
              "    "
            ],
            "text/plain": [
              "<gofer.ok.OKTestsResult at 0x7fbf75d38550>"
            ]
          },
          "metadata": {
            "tags": []
          }
        }
      ]
    },
    {
      "cell_type": "markdown",
      "metadata": {
        "colab_type": "text",
        "id": "hPwkZIFjvepK"
      },
      "source": [
        "(21) Create a new numpy array `nparray2` that selects only column 1 of `nparray1` (all rows).\n"
      ]
    },
    {
      "cell_type": "code",
      "metadata": {
        "colab_type": "code",
        "id": "_u87TQAWvepM",
        "outputId": "12ea1805-080e-4125-a9b0-05ea4dc597b0",
        "colab": {
          "base_uri": "https://localhost:8080/",
          "height": 68
        }
      },
      "source": [
        "#<insert q21 code here>\n",
        "nparray2 = nparray1[:,1:2]\n",
        "print(nparray2)"
      ],
      "execution_count": 40,
      "outputs": [
        {
          "output_type": "stream",
          "text": [
            "[[3]\n",
            " [3]\n",
            " [3]]\n"
          ],
          "name": "stdout"
        }
      ]
    },
    {
      "cell_type": "code",
      "metadata": {
        "colab_type": "code",
        "id": "AaITgUOdvepP",
        "outputId": "194f6a64-526b-493e-b8a7-e62cc38e01de",
        "colab": {
          "base_uri": "https://localhost:8080/",
          "height": 46
        }
      },
      "source": [
        "_ = ok.grade('q21')"
      ],
      "execution_count": 41,
      "outputs": [
        {
          "output_type": "display_data",
          "data": {
            "text/html": [
              "\n",
              "    \n",
              "    \n",
              "        <p>All tests passed!</p>\n",
              "    \n",
              "    "
            ],
            "text/plain": [
              "<gofer.ok.OKTestsResult at 0x7fbf75d38278>"
            ]
          },
          "metadata": {
            "tags": []
          }
        }
      ]
    },
    {
      "cell_type": "markdown",
      "metadata": {
        "colab_type": "text",
        "id": "DB3DOnfJvepR"
      },
      "source": [
        "(22) Create a new numpy array `nparray3` that is equal to `nparray1` times `2` (you should not alter `nparray1`).\n"
      ]
    },
    {
      "cell_type": "code",
      "metadata": {
        "colab_type": "code",
        "id": "nh46rOKIvepR",
        "outputId": "3b02f047-e751-4d58-8727-42e37bb26d71",
        "colab": {
          "base_uri": "https://localhost:8080/",
          "height": 68
        }
      },
      "source": [
        "#<insert q22 code here>\n",
        "nparray3 = nparray1 * 2\n",
        "print(nparray3)"
      ],
      "execution_count": 42,
      "outputs": [
        {
          "output_type": "stream",
          "text": [
            "[[6 6 6]\n",
            " [6 6 6]\n",
            " [6 6 6]]\n"
          ],
          "name": "stdout"
        }
      ]
    },
    {
      "cell_type": "code",
      "metadata": {
        "colab_type": "code",
        "id": "QqoCpcgGvepT",
        "outputId": "4a270178-fae1-48eb-cdf0-43ade091613b",
        "colab": {
          "base_uri": "https://localhost:8080/",
          "height": 46
        }
      },
      "source": [
        "_ = ok.grade('q22')"
      ],
      "execution_count": 43,
      "outputs": [
        {
          "output_type": "display_data",
          "data": {
            "text/html": [
              "\n",
              "    \n",
              "    \n",
              "        <p>All tests passed!</p>\n",
              "    \n",
              "    "
            ],
            "text/plain": [
              "<gofer.ok.OKTestsResult at 0x7fbf75d381d0>"
            ]
          },
          "metadata": {
            "tags": []
          }
        }
      ]
    },
    {
      "cell_type": "markdown",
      "metadata": {
        "colab_type": "text",
        "id": "AcHYqDoJvepW"
      },
      "source": [
        "(23) Create a new numpy array nparray4 that is a verticle stack of `nparray1` and `nparray3`."
      ]
    },
    {
      "cell_type": "code",
      "metadata": {
        "colab_type": "code",
        "id": "UIdFzHX2vepW",
        "outputId": "087a7726-e646-4fa8-ae2c-c30369ca8f52",
        "colab": {
          "base_uri": "https://localhost:8080/",
          "height": 119
        }
      },
      "source": [
        "#<insert q23 code here>\n",
        "nparray4 = np.vstack((nparray1,nparray3))\n",
        "print(nparray4)"
      ],
      "execution_count": 44,
      "outputs": [
        {
          "output_type": "stream",
          "text": [
            "[[3 3 3]\n",
            " [3 3 3]\n",
            " [3 3 3]\n",
            " [6 6 6]\n",
            " [6 6 6]\n",
            " [6 6 6]]\n"
          ],
          "name": "stdout"
        }
      ]
    },
    {
      "cell_type": "code",
      "metadata": {
        "colab_type": "code",
        "id": "fRdhG2Qlvepg",
        "outputId": "946b3bab-1d51-4ea4-95bf-bdc39abda89e",
        "colab": {
          "base_uri": "https://localhost:8080/",
          "height": 46
        }
      },
      "source": [
        "_ = ok.grade('q23')"
      ],
      "execution_count": 45,
      "outputs": [
        {
          "output_type": "display_data",
          "data": {
            "text/html": [
              "\n",
              "    \n",
              "    \n",
              "        <p>All tests passed!</p>\n",
              "    \n",
              "    "
            ],
            "text/plain": [
              "<gofer.ok.OKTestsResult at 0x7fbf75d38898>"
            ]
          },
          "metadata": {
            "tags": []
          }
        }
      ]
    },
    {
      "cell_type": "markdown",
      "metadata": {
        "colab_type": "text",
        "id": "ezfqNhP7vepj"
      },
      "source": [
        "## Exercise-Pandas\n",
        "\n",
        "For these you will need to import the iris dataset. You should find the file `iris.csv` in the main directory.  \n",
        "\n",
        "While we showed 2 ways of importing a csv, you should use the `read_csv` method of Pandas to load the csv into a dataframe called `df`. \n"
      ]
    },
    {
      "cell_type": "code",
      "metadata": {
        "colab_type": "code",
        "id": "vV8phxSrvepm",
        "outputId": "f64ec3c9-d286-42b9-a717-84931a40396c",
        "colab": {
          "base_uri": "https://localhost:8080/",
          "height": 1000
        }
      },
      "source": [
        "#Load iris.csv into a Pandas dataframe df here.\n",
        "#Check out the first few rows with the head command. \n",
        "import pandas as pd\n",
        "df= pd.read_csv('iris.csv')\n",
        "print(df)"
      ],
      "execution_count": 46,
      "outputs": [
        {
          "output_type": "stream",
          "text": [
            "     sepal_length  sepal_width  petal_length  petal_width    species\n",
            "0             5.1          3.5           1.4          0.2     setosa\n",
            "1             4.9          3.0           1.4          0.2     setosa\n",
            "2             4.7          3.2           1.3          0.2     setosa\n",
            "3             4.6          3.1           1.5          0.2     setosa\n",
            "4             5.0          3.6           1.4          0.2     setosa\n",
            "5             5.4          3.9           1.7          0.4     setosa\n",
            "6             4.6          3.4           1.4          0.3     setosa\n",
            "7             5.0          3.4           1.5          0.2     setosa\n",
            "8             4.4          2.9           1.4          0.2     setosa\n",
            "9             4.9          3.1           1.5          0.1     setosa\n",
            "10            5.4          3.7           1.5          0.2     setosa\n",
            "11            4.8          3.4           1.6          0.2     setosa\n",
            "12            4.8          3.0           1.4          0.1     setosa\n",
            "13            4.3          3.0           1.1          0.1     setosa\n",
            "14            5.8          4.0           1.2          0.2     setosa\n",
            "15            5.7          4.4           1.5          0.4     setosa\n",
            "16            5.4          3.9           1.3          0.4     setosa\n",
            "17            5.1          3.5           1.4          0.3     setosa\n",
            "18            5.7          3.8           1.7          0.3     setosa\n",
            "19            5.1          3.8           1.5          0.3     setosa\n",
            "20            5.4          3.4           1.7          0.2     setosa\n",
            "21            5.1          3.7           1.5          0.4     setosa\n",
            "22            4.6          3.6           1.0          0.2     setosa\n",
            "23            5.1          3.3           1.7          0.5     setosa\n",
            "24            4.8          3.4           1.9          0.2     setosa\n",
            "25            5.0          3.0           1.6          0.2     setosa\n",
            "26            5.0          3.4           1.6          0.4     setosa\n",
            "27            5.2          3.5           1.5          0.2     setosa\n",
            "28            5.2          3.4           1.4          0.2     setosa\n",
            "29            4.7          3.2           1.6          0.2     setosa\n",
            "..            ...          ...           ...          ...        ...\n",
            "120           6.9          3.2           5.7          2.3  virginica\n",
            "121           5.6          2.8           4.9          2.0  virginica\n",
            "122           7.7          2.8           6.7          2.0  virginica\n",
            "123           6.3          2.7           4.9          1.8  virginica\n",
            "124           6.7          3.3           5.7          2.1  virginica\n",
            "125           7.2          3.2           6.0          1.8  virginica\n",
            "126           6.2          2.8           4.8          1.8  virginica\n",
            "127           6.1          3.0           4.9          1.8  virginica\n",
            "128           6.4          2.8           5.6          2.1  virginica\n",
            "129           7.2          3.0           5.8          1.6  virginica\n",
            "130           7.4          2.8           6.1          1.9  virginica\n",
            "131           7.9          3.8           6.4          2.0  virginica\n",
            "132           6.4          2.8           5.6          2.2  virginica\n",
            "133           6.3          2.8           5.1          1.5  virginica\n",
            "134           6.1          2.6           5.6          1.4  virginica\n",
            "135           7.7          3.0           6.1          2.3  virginica\n",
            "136           6.3          3.4           5.6          2.4  virginica\n",
            "137           6.4          3.1           5.5          1.8  virginica\n",
            "138           6.0          3.0           4.8          1.8  virginica\n",
            "139           6.9          3.1           5.4          2.1  virginica\n",
            "140           6.7          3.1           5.6          2.4  virginica\n",
            "141           6.9          3.1           5.1          2.3  virginica\n",
            "142           5.8          2.7           5.1          1.9  virginica\n",
            "143           6.8          3.2           5.9          2.3  virginica\n",
            "144           6.7          3.3           5.7          2.5  virginica\n",
            "145           6.7          3.0           5.2          2.3  virginica\n",
            "146           6.3          2.5           5.0          1.9  virginica\n",
            "147           6.5          3.0           5.2          2.0  virginica\n",
            "148           6.2          3.4           5.4          2.3  virginica\n",
            "149           5.9          3.0           5.1          1.8  virginica\n",
            "\n",
            "[150 rows x 5 columns]\n"
          ],
          "name": "stdout"
        }
      ]
    },
    {
      "cell_type": "markdown",
      "metadata": {
        "colab_type": "text",
        "id": "9a38atU5vepo"
      },
      "source": [
        "(24) Create a variable `df_rows` that includes the number of rows in the `df` dataframe."
      ]
    },
    {
      "cell_type": "code",
      "metadata": {
        "colab_type": "code",
        "id": "aHJFJBLwvepo",
        "outputId": "9b7ba6b6-26ec-435c-9cc0-cdf48f538ee1",
        "colab": {
          "base_uri": "https://localhost:8080/",
          "height": 34
        }
      },
      "source": [
        "#<insert q24 code here>\n",
        "df_rows = df.shape[0]\n",
        "print(df_rows)"
      ],
      "execution_count": 47,
      "outputs": [
        {
          "output_type": "stream",
          "text": [
            "150\n"
          ],
          "name": "stdout"
        }
      ]
    },
    {
      "cell_type": "code",
      "metadata": {
        "colab_type": "code",
        "id": "ocyOMCMcvepr",
        "outputId": "5a662eaf-2445-4f95-be4f-b6e3bc6999a0",
        "colab": {
          "base_uri": "https://localhost:8080/",
          "height": 46
        }
      },
      "source": [
        "_ = ok.grade('q24')"
      ],
      "execution_count": 48,
      "outputs": [
        {
          "output_type": "display_data",
          "data": {
            "text/html": [
              "\n",
              "    \n",
              "    \n",
              "        <p>All tests passed!</p>\n",
              "    \n",
              "    "
            ],
            "text/plain": [
              "<gofer.ok.OKTestsResult at 0x7fbf8cbfb400>"
            ]
          },
          "metadata": {
            "tags": []
          }
        }
      ]
    },
    {
      "cell_type": "markdown",
      "metadata": {
        "colab_type": "text",
        "id": "5HIEmJJ7vept"
      },
      "source": [
        "(25) Create a new dataframe `df_train` that includes the first half of the `df` dataframe. Create a new dataframe `df_test` that includes the second half. "
      ]
    },
    {
      "cell_type": "code",
      "metadata": {
        "colab_type": "code",
        "id": "m94FHotyvepu",
        "outputId": "1f462295-d99d-4a1c-a147-e540601250f5",
        "colab": {
          "base_uri": "https://localhost:8080/",
          "height": 1000
        }
      },
      "source": [
        "#<insert q25 code here>\n",
        "df_train = df[:75]\n",
        "df_test = df[75:]\n",
        "print(df_train)\n",
        "print(df_test)"
      ],
      "execution_count": 49,
      "outputs": [
        {
          "output_type": "stream",
          "text": [
            "    sepal_length  sepal_width  petal_length  petal_width     species\n",
            "0            5.1          3.5           1.4          0.2      setosa\n",
            "1            4.9          3.0           1.4          0.2      setosa\n",
            "2            4.7          3.2           1.3          0.2      setosa\n",
            "3            4.6          3.1           1.5          0.2      setosa\n",
            "4            5.0          3.6           1.4          0.2      setosa\n",
            "5            5.4          3.9           1.7          0.4      setosa\n",
            "6            4.6          3.4           1.4          0.3      setosa\n",
            "7            5.0          3.4           1.5          0.2      setosa\n",
            "8            4.4          2.9           1.4          0.2      setosa\n",
            "9            4.9          3.1           1.5          0.1      setosa\n",
            "10           5.4          3.7           1.5          0.2      setosa\n",
            "11           4.8          3.4           1.6          0.2      setosa\n",
            "12           4.8          3.0           1.4          0.1      setosa\n",
            "13           4.3          3.0           1.1          0.1      setosa\n",
            "14           5.8          4.0           1.2          0.2      setosa\n",
            "15           5.7          4.4           1.5          0.4      setosa\n",
            "16           5.4          3.9           1.3          0.4      setosa\n",
            "17           5.1          3.5           1.4          0.3      setosa\n",
            "18           5.7          3.8           1.7          0.3      setosa\n",
            "19           5.1          3.8           1.5          0.3      setosa\n",
            "20           5.4          3.4           1.7          0.2      setosa\n",
            "21           5.1          3.7           1.5          0.4      setosa\n",
            "22           4.6          3.6           1.0          0.2      setosa\n",
            "23           5.1          3.3           1.7          0.5      setosa\n",
            "24           4.8          3.4           1.9          0.2      setosa\n",
            "25           5.0          3.0           1.6          0.2      setosa\n",
            "26           5.0          3.4           1.6          0.4      setosa\n",
            "27           5.2          3.5           1.5          0.2      setosa\n",
            "28           5.2          3.4           1.4          0.2      setosa\n",
            "29           4.7          3.2           1.6          0.2      setosa\n",
            "..           ...          ...           ...          ...         ...\n",
            "45           4.8          3.0           1.4          0.3      setosa\n",
            "46           5.1          3.8           1.6          0.2      setosa\n",
            "47           4.6          3.2           1.4          0.2      setosa\n",
            "48           5.3          3.7           1.5          0.2      setosa\n",
            "49           5.0          3.3           1.4          0.2      setosa\n",
            "50           7.0          3.2           4.7          1.4  versicolor\n",
            "51           6.4          3.2           4.5          1.5  versicolor\n",
            "52           6.9          3.1           4.9          1.5  versicolor\n",
            "53           5.5          2.3           4.0          1.3  versicolor\n",
            "54           6.5          2.8           4.6          1.5  versicolor\n",
            "55           5.7          2.8           4.5          1.3  versicolor\n",
            "56           6.3          3.3           4.7          1.6  versicolor\n",
            "57           4.9          2.4           3.3          1.0  versicolor\n",
            "58           6.6          2.9           4.6          1.3  versicolor\n",
            "59           5.2          2.7           3.9          1.4  versicolor\n",
            "60           5.0          2.0           3.5          1.0  versicolor\n",
            "61           5.9          3.0           4.2          1.5  versicolor\n",
            "62           6.0          2.2           4.0          1.0  versicolor\n",
            "63           6.1          2.9           4.7          1.4  versicolor\n",
            "64           5.6          2.9           3.6          1.3  versicolor\n",
            "65           6.7          3.1           4.4          1.4  versicolor\n",
            "66           5.6          3.0           4.5          1.5  versicolor\n",
            "67           5.8          2.7           4.1          1.0  versicolor\n",
            "68           6.2          2.2           4.5          1.5  versicolor\n",
            "69           5.6          2.5           3.9          1.1  versicolor\n",
            "70           5.9          3.2           4.8          1.8  versicolor\n",
            "71           6.1          2.8           4.0          1.3  versicolor\n",
            "72           6.3          2.5           4.9          1.5  versicolor\n",
            "73           6.1          2.8           4.7          1.2  versicolor\n",
            "74           6.4          2.9           4.3          1.3  versicolor\n",
            "\n",
            "[75 rows x 5 columns]\n",
            "     sepal_length  sepal_width  petal_length  petal_width     species\n",
            "75            6.6          3.0           4.4          1.4  versicolor\n",
            "76            6.8          2.8           4.8          1.4  versicolor\n",
            "77            6.7          3.0           5.0          1.7  versicolor\n",
            "78            6.0          2.9           4.5          1.5  versicolor\n",
            "79            5.7          2.6           3.5          1.0  versicolor\n",
            "80            5.5          2.4           3.8          1.1  versicolor\n",
            "81            5.5          2.4           3.7          1.0  versicolor\n",
            "82            5.8          2.7           3.9          1.2  versicolor\n",
            "83            6.0          2.7           5.1          1.6  versicolor\n",
            "84            5.4          3.0           4.5          1.5  versicolor\n",
            "85            6.0          3.4           4.5          1.6  versicolor\n",
            "86            6.7          3.1           4.7          1.5  versicolor\n",
            "87            6.3          2.3           4.4          1.3  versicolor\n",
            "88            5.6          3.0           4.1          1.3  versicolor\n",
            "89            5.5          2.5           4.0          1.3  versicolor\n",
            "90            5.5          2.6           4.4          1.2  versicolor\n",
            "91            6.1          3.0           4.6          1.4  versicolor\n",
            "92            5.8          2.6           4.0          1.2  versicolor\n",
            "93            5.0          2.3           3.3          1.0  versicolor\n",
            "94            5.6          2.7           4.2          1.3  versicolor\n",
            "95            5.7          3.0           4.2          1.2  versicolor\n",
            "96            5.7          2.9           4.2          1.3  versicolor\n",
            "97            6.2          2.9           4.3          1.3  versicolor\n",
            "98            5.1          2.5           3.0          1.1  versicolor\n",
            "99            5.7          2.8           4.1          1.3  versicolor\n",
            "100           6.3          3.3           6.0          2.5   virginica\n",
            "101           5.8          2.7           5.1          1.9   virginica\n",
            "102           7.1          3.0           5.9          2.1   virginica\n",
            "103           6.3          2.9           5.6          1.8   virginica\n",
            "104           6.5          3.0           5.8          2.2   virginica\n",
            "..            ...          ...           ...          ...         ...\n",
            "120           6.9          3.2           5.7          2.3   virginica\n",
            "121           5.6          2.8           4.9          2.0   virginica\n",
            "122           7.7          2.8           6.7          2.0   virginica\n",
            "123           6.3          2.7           4.9          1.8   virginica\n",
            "124           6.7          3.3           5.7          2.1   virginica\n",
            "125           7.2          3.2           6.0          1.8   virginica\n",
            "126           6.2          2.8           4.8          1.8   virginica\n",
            "127           6.1          3.0           4.9          1.8   virginica\n",
            "128           6.4          2.8           5.6          2.1   virginica\n",
            "129           7.2          3.0           5.8          1.6   virginica\n",
            "130           7.4          2.8           6.1          1.9   virginica\n",
            "131           7.9          3.8           6.4          2.0   virginica\n",
            "132           6.4          2.8           5.6          2.2   virginica\n",
            "133           6.3          2.8           5.1          1.5   virginica\n",
            "134           6.1          2.6           5.6          1.4   virginica\n",
            "135           7.7          3.0           6.1          2.3   virginica\n",
            "136           6.3          3.4           5.6          2.4   virginica\n",
            "137           6.4          3.1           5.5          1.8   virginica\n",
            "138           6.0          3.0           4.8          1.8   virginica\n",
            "139           6.9          3.1           5.4          2.1   virginica\n",
            "140           6.7          3.1           5.6          2.4   virginica\n",
            "141           6.9          3.1           5.1          2.3   virginica\n",
            "142           5.8          2.7           5.1          1.9   virginica\n",
            "143           6.8          3.2           5.9          2.3   virginica\n",
            "144           6.7          3.3           5.7          2.5   virginica\n",
            "145           6.7          3.0           5.2          2.3   virginica\n",
            "146           6.3          2.5           5.0          1.9   virginica\n",
            "147           6.5          3.0           5.2          2.0   virginica\n",
            "148           6.2          3.4           5.4          2.3   virginica\n",
            "149           5.9          3.0           5.1          1.8   virginica\n",
            "\n",
            "[75 rows x 5 columns]\n"
          ],
          "name": "stdout"
        }
      ]
    },
    {
      "cell_type": "code",
      "metadata": {
        "colab_type": "code",
        "id": "hxI3G7FZvepv",
        "outputId": "36d6e2c7-c1d9-48d9-c0df-52fdf2eb6a14",
        "colab": {
          "base_uri": "https://localhost:8080/",
          "height": 46
        }
      },
      "source": [
        "_ = ok.grade('q25')"
      ],
      "execution_count": 50,
      "outputs": [
        {
          "output_type": "display_data",
          "data": {
            "text/html": [
              "\n",
              "    \n",
              "    \n",
              "        <p>All tests passed!</p>\n",
              "    \n",
              "    "
            ],
            "text/plain": [
              "<gofer.ok.OKTestsResult at 0x7fbf8cbfb550>"
            ]
          },
          "metadata": {
            "tags": []
          }
        }
      ]
    },
    {
      "cell_type": "markdown",
      "metadata": {
        "colab_type": "text",
        "id": "zEAb8ANfvepw"
      },
      "source": [
        "(26) Create a new Pandas Series `sepal_length` from the `sepal_length` column of the df dataframe."
      ]
    },
    {
      "cell_type": "code",
      "metadata": {
        "colab_type": "code",
        "id": "esdxPPVRvepw",
        "outputId": "cf63db1d-cfa3-4ac9-aba9-aa6d3841c277",
        "colab": {
          "base_uri": "https://localhost:8080/",
          "height": 1000
        }
      },
      "source": [
        "#<insert q26 code here>\n",
        "sepal_length = df['sepal_length']\n",
        "print(sepal_length)"
      ],
      "execution_count": 51,
      "outputs": [
        {
          "output_type": "stream",
          "text": [
            "0      5.1\n",
            "1      4.9\n",
            "2      4.7\n",
            "3      4.6\n",
            "4      5.0\n",
            "5      5.4\n",
            "6      4.6\n",
            "7      5.0\n",
            "8      4.4\n",
            "9      4.9\n",
            "10     5.4\n",
            "11     4.8\n",
            "12     4.8\n",
            "13     4.3\n",
            "14     5.8\n",
            "15     5.7\n",
            "16     5.4\n",
            "17     5.1\n",
            "18     5.7\n",
            "19     5.1\n",
            "20     5.4\n",
            "21     5.1\n",
            "22     4.6\n",
            "23     5.1\n",
            "24     4.8\n",
            "25     5.0\n",
            "26     5.0\n",
            "27     5.2\n",
            "28     5.2\n",
            "29     4.7\n",
            "      ... \n",
            "120    6.9\n",
            "121    5.6\n",
            "122    7.7\n",
            "123    6.3\n",
            "124    6.7\n",
            "125    7.2\n",
            "126    6.2\n",
            "127    6.1\n",
            "128    6.4\n",
            "129    7.2\n",
            "130    7.4\n",
            "131    7.9\n",
            "132    6.4\n",
            "133    6.3\n",
            "134    6.1\n",
            "135    7.7\n",
            "136    6.3\n",
            "137    6.4\n",
            "138    6.0\n",
            "139    6.9\n",
            "140    6.7\n",
            "141    6.9\n",
            "142    5.8\n",
            "143    6.8\n",
            "144    6.7\n",
            "145    6.7\n",
            "146    6.3\n",
            "147    6.5\n",
            "148    6.2\n",
            "149    5.9\n",
            "Name: sepal_length, Length: 150, dtype: float64\n"
          ],
          "name": "stdout"
        }
      ]
    },
    {
      "cell_type": "code",
      "metadata": {
        "colab_type": "code",
        "id": "QDepO9byvepx",
        "outputId": "74259535-6cef-4fb5-f4e0-d6dbd34aed97",
        "colab": {
          "base_uri": "https://localhost:8080/",
          "height": 46
        }
      },
      "source": [
        "_ = ok.grade('q26')"
      ],
      "execution_count": 52,
      "outputs": [
        {
          "output_type": "display_data",
          "data": {
            "text/html": [
              "\n",
              "    \n",
              "    \n",
              "        <p>All tests passed!</p>\n",
              "    \n",
              "    "
            ],
            "text/plain": [
              "<gofer.ok.OKTestsResult at 0x7fbf75d38898>"
            ]
          },
          "metadata": {
            "tags": []
          }
        }
      ]
    },
    {
      "cell_type": "markdown",
      "metadata": {
        "colab_type": "text",
        "id": "o_werxT-veqZ"
      },
      "source": [
        "\n",
        "(27) Using, the Iris dataset, find the mean of the `sepal_length` series in our sample and assign it to the `sepal_length_mean` variable. You should round the result to 3 digits after the decimal. \n",
        "\n",
        "```\n",
        "#Round example\n",
        "a=99.9999999999999\n",
        "#For example, the following will round a to 2 digits.\n",
        "b = round(a,2)   \n",
        "\n",
        "```"
      ]
    },
    {
      "cell_type": "code",
      "metadata": {
        "colab_type": "code",
        "id": "saURdNtTveqZ",
        "outputId": "4a332be6-22e4-4e59-ea47-2c26e3d6459d",
        "colab": {
          "base_uri": "https://localhost:8080/",
          "height": 34
        }
      },
      "source": [
        "#<insert q27 code here>\n",
        "\n",
        "a = df.loc[:,\"sepal_length\"].mean()\n",
        "sepal_length_mean = round(a,3)\n",
        "print(sepal_length_mean)"
      ],
      "execution_count": 53,
      "outputs": [
        {
          "output_type": "stream",
          "text": [
            "5.843\n"
          ],
          "name": "stdout"
        }
      ]
    },
    {
      "cell_type": "code",
      "metadata": {
        "colab_type": "code",
        "id": "Iof0VHXhveqa",
        "outputId": "da2bf41a-e64d-48c7-b2ec-71bdc18508a6",
        "colab": {
          "base_uri": "https://localhost:8080/",
          "height": 46
        }
      },
      "source": [
        "_ = ok.grade('q27')"
      ],
      "execution_count": 54,
      "outputs": [
        {
          "output_type": "display_data",
          "data": {
            "text/html": [
              "\n",
              "    \n",
              "    \n",
              "        <p>All tests passed!</p>\n",
              "    \n",
              "    "
            ],
            "text/plain": [
              "<gofer.ok.OKTestsResult at 0x7fbf75d387b8>"
            ]
          },
          "metadata": {
            "tags": []
          }
        }
      ]
    },
    {
      "cell_type": "markdown",
      "metadata": {
        "colab_type": "text",
        "id": "olb4NJhXveqg"
      },
      "source": [
        "## Enter your Information\n",
        "Enter your information.  This will run all tests to make sure that the assignment is complete. "
      ]
    },
    {
      "cell_type": "code",
      "metadata": {
        "colab_type": "code",
        "id": "qEOFiseYveqh",
        "colab": {}
      },
      "source": [
        "course=\"mgmt6560\"   #course number\n",
        "section=\"2\"          #section \n",
        "first_name=\"Chi\"   #For example, \"jason\"\n",
        "last_name=\"Wang\"    #For example, \"kuruzovich\"\n",
        "student_id=\"chiwangchic\"       #for example \"kuruzj\"\n",
        "student_email=\"wangc24@rpi.edu\"    #for example \"kuruzj@rpi.edu\"\n",
        "collaborators = \"No\"  #You can speak with others regarding the assignment, but all typed work must be your own."
      ],
      "execution_count": 0,
      "outputs": []
    },
    {
      "cell_type": "code",
      "metadata": {
        "colab_type": "code",
        "id": "XAFY3Ibsveqi",
        "outputId": "a5db82b7-300e-4b55-db6b-7a78fe3cb7c9",
        "colab": {
          "base_uri": "https://localhost:8080/",
          "height": 957
        }
      },
      "source": [
        "#This runs all tests. \n",
        "import os\n",
        "_ = [ok.grade(q[:-3]) for q in os.listdir(\"tests\") if q.startswith('q')]"
      ],
      "execution_count": 56,
      "outputs": [
        {
          "output_type": "display_data",
          "data": {
            "text/html": [
              "\n",
              "    \n",
              "    \n",
              "        <p>All tests passed!</p>\n",
              "    \n",
              "    "
            ],
            "text/plain": [
              "<gofer.ok.OKTestsResult at 0x7fbf7583cdd8>"
            ]
          },
          "metadata": {
            "tags": []
          }
        },
        {
          "output_type": "display_data",
          "data": {
            "text/html": [
              "\n",
              "    \n",
              "    \n",
              "        <p>All tests passed!</p>\n",
              "    \n",
              "    "
            ],
            "text/plain": [
              "<gofer.ok.OKTestsResult at 0x7fbf7583cd68>"
            ]
          },
          "metadata": {
            "tags": []
          }
        },
        {
          "output_type": "display_data",
          "data": {
            "text/html": [
              "\n",
              "    \n",
              "    \n",
              "        <p>All tests passed!</p>\n",
              "    \n",
              "    "
            ],
            "text/plain": [
              "<gofer.ok.OKTestsResult at 0x7fbf7583c860>"
            ]
          },
          "metadata": {
            "tags": []
          }
        },
        {
          "output_type": "display_data",
          "data": {
            "text/html": [
              "\n",
              "    \n",
              "    \n",
              "        <p>All tests passed!</p>\n",
              "    \n",
              "    "
            ],
            "text/plain": [
              "<gofer.ok.OKTestsResult at 0x7fbf757ff240>"
            ]
          },
          "metadata": {
            "tags": []
          }
        },
        {
          "output_type": "display_data",
          "data": {
            "text/html": [
              "\n",
              "    \n",
              "    \n",
              "        <p>All tests passed!</p>\n",
              "    \n",
              "    "
            ],
            "text/plain": [
              "<gofer.ok.OKTestsResult at 0x7fbf757ff2b0>"
            ]
          },
          "metadata": {
            "tags": []
          }
        },
        {
          "output_type": "display_data",
          "data": {
            "text/html": [
              "\n",
              "    \n",
              "    \n",
              "        <p>All tests passed!</p>\n",
              "    \n",
              "    "
            ],
            "text/plain": [
              "<gofer.ok.OKTestsResult at 0x7fbf757ff978>"
            ]
          },
          "metadata": {
            "tags": []
          }
        },
        {
          "output_type": "display_data",
          "data": {
            "text/html": [
              "\n",
              "    \n",
              "    \n",
              "        <p>All tests passed!</p>\n",
              "    \n",
              "    "
            ],
            "text/plain": [
              "<gofer.ok.OKTestsResult at 0x7fbf757fffd0>"
            ]
          },
          "metadata": {
            "tags": []
          }
        },
        {
          "output_type": "display_data",
          "data": {
            "text/html": [
              "\n",
              "    \n",
              "    \n",
              "        <p>All tests passed!</p>\n",
              "    \n",
              "    "
            ],
            "text/plain": [
              "<gofer.ok.OKTestsResult at 0x7fbf757ff198>"
            ]
          },
          "metadata": {
            "tags": []
          }
        },
        {
          "output_type": "display_data",
          "data": {
            "text/html": [
              "\n",
              "    \n",
              "    \n",
              "        <p>All tests passed!</p>\n",
              "    \n",
              "    "
            ],
            "text/plain": [
              "<gofer.ok.OKTestsResult at 0x7fbf757ffe80>"
            ]
          },
          "metadata": {
            "tags": []
          }
        },
        {
          "output_type": "display_data",
          "data": {
            "text/html": [
              "\n",
              "    \n",
              "    \n",
              "        <p>All tests passed!</p>\n",
              "    \n",
              "    "
            ],
            "text/plain": [
              "<gofer.ok.OKTestsResult at 0x7fbf757ffcc0>"
            ]
          },
          "metadata": {
            "tags": []
          }
        },
        {
          "output_type": "display_data",
          "data": {
            "text/html": [
              "\n",
              "    \n",
              "    \n",
              "        <p>All tests passed!</p>\n",
              "    \n",
              "    "
            ],
            "text/plain": [
              "<gofer.ok.OKTestsResult at 0x7fbf757fff28>"
            ]
          },
          "metadata": {
            "tags": []
          }
        },
        {
          "output_type": "display_data",
          "data": {
            "text/html": [
              "\n",
              "    \n",
              "    \n",
              "        <p>All tests passed!</p>\n",
              "    \n",
              "    "
            ],
            "text/plain": [
              "<gofer.ok.OKTestsResult at 0x7fbf757ffc50>"
            ]
          },
          "metadata": {
            "tags": []
          }
        },
        {
          "output_type": "display_data",
          "data": {
            "text/html": [
              "\n",
              "    \n",
              "    \n",
              "        <p>All tests passed!</p>\n",
              "    \n",
              "    "
            ],
            "text/plain": [
              "<gofer.ok.OKTestsResult at 0x7fbf757ff518>"
            ]
          },
          "metadata": {
            "tags": []
          }
        },
        {
          "output_type": "display_data",
          "data": {
            "text/html": [
              "\n",
              "    \n",
              "    \n",
              "        <p>All tests passed!</p>\n",
              "    \n",
              "    "
            ],
            "text/plain": [
              "<gofer.ok.OKTestsResult at 0x7fbf757ff9e8>"
            ]
          },
          "metadata": {
            "tags": []
          }
        },
        {
          "output_type": "display_data",
          "data": {
            "text/html": [
              "\n",
              "    \n",
              "    \n",
              "        <p>All tests passed!</p>\n",
              "    \n",
              "    "
            ],
            "text/plain": [
              "<gofer.ok.OKTestsResult at 0x7fbf757ff550>"
            ]
          },
          "metadata": {
            "tags": []
          }
        },
        {
          "output_type": "display_data",
          "data": {
            "text/html": [
              "\n",
              "    \n",
              "    \n",
              "        <p>All tests passed!</p>\n",
              "    \n",
              "    "
            ],
            "text/plain": [
              "<gofer.ok.OKTestsResult at 0x7fbf757ffe48>"
            ]
          },
          "metadata": {
            "tags": []
          }
        },
        {
          "output_type": "display_data",
          "data": {
            "text/html": [
              "\n",
              "    \n",
              "    \n",
              "        <p>All tests passed!</p>\n",
              "    \n",
              "    "
            ],
            "text/plain": [
              "<gofer.ok.OKTestsResult at 0x7fbf757ff7b8>"
            ]
          },
          "metadata": {
            "tags": []
          }
        },
        {
          "output_type": "display_data",
          "data": {
            "text/html": [
              "\n",
              "    \n",
              "    \n",
              "        <p>All tests passed!</p>\n",
              "    \n",
              "    "
            ],
            "text/plain": [
              "<gofer.ok.OKTestsResult at 0x7fbf757ffa58>"
            ]
          },
          "metadata": {
            "tags": []
          }
        },
        {
          "output_type": "display_data",
          "data": {
            "text/html": [
              "\n",
              "    \n",
              "    \n",
              "        <p>All tests passed!</p>\n",
              "    \n",
              "    "
            ],
            "text/plain": [
              "<gofer.ok.OKTestsResult at 0x7fbf757ff860>"
            ]
          },
          "metadata": {
            "tags": []
          }
        },
        {
          "output_type": "display_data",
          "data": {
            "text/html": [
              "\n",
              "    \n",
              "    \n",
              "        <p>0 of 1 tests passed</p>\n",
              "        \n",
              "        \n",
              "        <p> <strong>Tests failed: </strong>\n",
              "            <ul>\n",
              "            \n",
              "                <li> \n",
              "    <p><strong style='color: red;'>/content/tests/q02.py</strong></p>\n",
              "\n",
              "    <p><strong>Test code:</strong><pre><div class=\"highlight\" style=\"background: #f8f8f8\"><pre style=\"line-height: 125%\"><span></span><span style=\"color: #000080; font-weight: bold\">&gt;&gt;&gt; </span><span style=\"color: #008000\">type</span>(a) <span style=\"color: #666666\">==</span> np<span style=\"color: #666666\">.</span>ndarray\n",
              "<span style=\"color: #888888\">True</span>\n",
              "</pre></div>\n",
              "</pre></p>\n",
              "\n",
              "    <p><strong>Test result:</strong><pre>Trying:\n",
              "    type(a) == np.ndarray\n",
              "Expecting:\n",
              "    True\n",
              "**********************************************************************\n",
              "Line 2, in /content/tests/q02.py 0\n",
              "Failed example:\n",
              "    type(a) == np.ndarray\n",
              "Expected:\n",
              "    True\n",
              "Got:\n",
              "    False\n",
              "</pre></p>\n",
              "     </li>\n",
              "            \n",
              "            </ul>\n",
              "        \n",
              "    \n",
              "    "
            ],
            "text/plain": [
              "<gofer.ok.OKTestsResult at 0x7fbf75812198>"
            ]
          },
          "metadata": {
            "tags": []
          }
        },
        {
          "output_type": "display_data",
          "data": {
            "text/html": [
              "\n",
              "    \n",
              "    \n",
              "        <p>All tests passed!</p>\n",
              "    \n",
              "    "
            ],
            "text/plain": [
              "<gofer.ok.OKTestsResult at 0x7fbf75812320>"
            ]
          },
          "metadata": {
            "tags": []
          }
        },
        {
          "output_type": "display_data",
          "data": {
            "text/html": [
              "\n",
              "    \n",
              "    \n",
              "        <p>All tests passed!</p>\n",
              "    \n",
              "    "
            ],
            "text/plain": [
              "<gofer.ok.OKTestsResult at 0x7fbf758122e8>"
            ]
          },
          "metadata": {
            "tags": []
          }
        },
        {
          "output_type": "display_data",
          "data": {
            "text/html": [
              "\n",
              "    \n",
              "    \n",
              "        <p>All tests passed!</p>\n",
              "    \n",
              "    "
            ],
            "text/plain": [
              "<gofer.ok.OKTestsResult at 0x7fbf75812048>"
            ]
          },
          "metadata": {
            "tags": []
          }
        },
        {
          "output_type": "display_data",
          "data": {
            "text/html": [
              "\n",
              "    \n",
              "    \n",
              "        <p>All tests passed!</p>\n",
              "    \n",
              "    "
            ],
            "text/plain": [
              "<gofer.ok.OKTestsResult at 0x7fbf758123c8>"
            ]
          },
          "metadata": {
            "tags": []
          }
        },
        {
          "output_type": "display_data",
          "data": {
            "text/html": [
              "\n",
              "    \n",
              "    \n",
              "        <p>All tests passed!</p>\n",
              "    \n",
              "    "
            ],
            "text/plain": [
              "<gofer.ok.OKTestsResult at 0x7fbf758121d0>"
            ]
          },
          "metadata": {
            "tags": []
          }
        }
      ]
    }
  ]
}
