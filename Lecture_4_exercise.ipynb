{
  "nbformat": 4,
  "nbformat_minor": 0,
  "metadata": {
    "colab": {
      "name": "Lecture-4.ipynb",
      "version": "0.3.2",
      "provenance": [],
      "collapsed_sections": []
    },
    "kernelspec": {
      "name": "python3",
      "display_name": "Python 3"
    }
  },
  "cells": [
    {
      "cell_type": "code",
      "metadata": {
        "id": "VSRK5XUUSPx-",
        "colab_type": "code",
        "outputId": "98779b80-07ec-49ba-e63b-fa0c1095372b",
        "colab": {
          "base_uri": "https://localhost:8080/",
          "height": 34
        }
      },
      "source": [
        "import numpy as np\n",
        "a = np.array([1,2,3])\n",
        "print(a)"
      ],
      "execution_count": 0,
      "outputs": [
        {
          "output_type": "stream",
          "text": [
            "[1 2 3]\n"
          ],
          "name": "stdout"
        }
      ]
    },
    {
      "cell_type": "code",
      "metadata": {
        "id": "7OXH9DcJST7q",
        "colab_type": "code",
        "outputId": "dd2346d7-8c49-4885-dbe1-4a7221a14251",
        "colab": {
          "base_uri": "https://localhost:8080/",
          "height": 68
        }
      },
      "source": [
        "import numpy as np\n",
        "a = np.array([[1,2,3],[4,5,6]])\n",
        "b = np.array((2,4,6))\n",
        "print(a)\n",
        "print(b)"
      ],
      "execution_count": 0,
      "outputs": [
        {
          "output_type": "stream",
          "text": [
            "[[1 2 3]\n",
            " [4 5 6]]\n",
            "[2 4 6]\n"
          ],
          "name": "stdout"
        }
      ]
    },
    {
      "cell_type": "code",
      "metadata": {
        "id": "8LNCV5qHZr6b",
        "colab_type": "code",
        "outputId": "9ff764fa-7961-4daa-ace4-d6fef2508291",
        "colab": {
          "base_uri": "https://localhost:8080/",
          "height": 34
        }
      },
      "source": [
        "import numpy as np\n",
        "a = np.array([[1,2,3,4],[5,4], [5,6,7,None]])\n",
        "print(a.shape)"
      ],
      "execution_count": 0,
      "outputs": [
        {
          "output_type": "stream",
          "text": [
            "(3,)\n"
          ],
          "name": "stdout"
        }
      ]
    },
    {
      "cell_type": "code",
      "metadata": {
        "id": "FrEn_psDSVbE",
        "colab_type": "code",
        "colab": {}
      },
      "source": [
        "import numpy as np\n",
        "a = np.zeros((2,2))\n",
        "print(a)"
      ],
      "execution_count": 0,
      "outputs": []
    },
    {
      "cell_type": "code",
      "metadata": {
        "id": "M71zo-ubSWcf",
        "colab_type": "code",
        "colab": {}
      },
      "source": [
        "import numpy as np\n",
        "b = np.ones((1,2))\n",
        "print(b)"
      ],
      "execution_count": 0,
      "outputs": []
    },
    {
      "cell_type": "code",
      "metadata": {
        "id": "pAgdy2ufScGm",
        "colab_type": "code",
        "colab": {}
      },
      "source": [
        "import numpy as np\n",
        "c = np.eye((2))\n",
        "d = a+c\n",
        "print(d)"
      ],
      "execution_count": 0,
      "outputs": []
    },
    {
      "cell_type": "code",
      "metadata": {
        "id": "sf_qeTUlSfAk",
        "colab_type": "code",
        "colab": {}
      },
      "source": [
        "import numpy as np\n",
        "b = np.random.random((2,2))\n",
        "print(b)"
      ],
      "execution_count": 0,
      "outputs": []
    },
    {
      "cell_type": "code",
      "metadata": {
        "id": "YRgnlqE9Sggk",
        "colab_type": "code",
        "outputId": "a4e98b5b-6c36-4642-b3bf-167ebde60478",
        "colab": {
          "base_uri": "https://localhost:8080/",
          "height": 51
        }
      },
      "source": [
        "import numpy as np\n",
        "a = np.array([[1,2,3,4], [5,6,7,8], [9,10,11,12]])\n",
        "print(a[:2,1:3])\n",
        "\n",
        "b = a[:2, 1:3]"
      ],
      "execution_count": 0,
      "outputs": [
        {
          "output_type": "stream",
          "text": [
            "[[2 3]\n",
            " [6 7]]\n"
          ],
          "name": "stdout"
        }
      ]
    },
    {
      "cell_type": "code",
      "metadata": {
        "id": "xX90RadUShp9",
        "colab_type": "code",
        "colab": {}
      },
      "source": [
        "import numpy as np\n",
        "print(a[0, 1])\n",
        "b[0, 0] = 7\n",
        "print(a[0, 1]) \n",
        "print(a)\n",
        "\n",
        "\n",
        "#A subset of an array is a view into the same data --> b[0, 0] is the same piece of data as a[0, 1] "
      ],
      "execution_count": 0,
      "outputs": []
    },
    {
      "cell_type": "code",
      "metadata": {
        "id": "iq6S_QMRfDUZ",
        "colab_type": "code",
        "outputId": "d7e59ab6-174c-4bf2-893a-f19536f6f162",
        "colab": {
          "base_uri": "https://localhost:8080/",
          "height": 69
        }
      },
      "source": [
        "a = np.array([[1,2,3,4], [6,7,8,9]])\n",
        "\n",
        "print(a.shape)\n",
        "\n",
        "print(a[0,1:3])\n",
        "\n",
        "print(a[:,2])\n",
        "\n"
      ],
      "execution_count": 0,
      "outputs": [
        {
          "output_type": "stream",
          "text": [
            "(2, 4)\n",
            "[2 3]\n",
            "[3 8]\n"
          ],
          "name": "stdout"
        }
      ]
    },
    {
      "cell_type": "code",
      "metadata": {
        "id": "UKv1SOm6Siix",
        "colab_type": "code",
        "outputId": "cbad0f34-9055-4548-ef79-9a57a60bfbbb",
        "colab": {
          "base_uri": "https://localhost:8080/",
          "height": 52
        }
      },
      "source": [
        "import numpy as np\n",
        "a = np.array([[1, 2, 3, 4,5], [5, 6, 7, 8,9], [9, 10, 11, 12,13], [13, 14, 15, 16,17]])\n",
        "sliced_a=a[:2, ::2]\n",
        "print(sliced_a)"
      ],
      "execution_count": 0,
      "outputs": [
        {
          "output_type": "stream",
          "text": [
            "[[1 3 5]\n",
            " [5 7 9]]\n"
          ],
          "name": "stdout"
        }
      ]
    },
    {
      "cell_type": "code",
      "metadata": {
        "id": "-NoJ6q4Wfp9G",
        "colab_type": "code",
        "outputId": "81eef2df-2756-4969-dc22-55bc0db9969b",
        "colab": {
          "base_uri": "https://localhost:8080/",
          "height": 52
        }
      },
      "source": [
        "a = np.array([[1,2], [3, 4], [5, 6]])\n",
        "\n",
        "print(a[[0, 1, 2], [0, 1, 0]])\n",
        "\n",
        "print(np.array([a[0, 0], a[1, 1], a[2, 0]]))"
      ],
      "execution_count": 0,
      "outputs": [
        {
          "output_type": "stream",
          "text": [
            "[1 4 5]\n",
            "[1 4 5]\n"
          ],
          "name": "stdout"
        }
      ]
    },
    {
      "cell_type": "code",
      "metadata": {
        "id": "kZnJ69eAUbf5",
        "colab_type": "code",
        "outputId": "f7ea1e56-caa8-4a08-cb46-1c6f4b471f9d",
        "colab": {
          "base_uri": "https://localhost:8080/",
          "height": 35
        }
      },
      "source": [
        "import numpy as np\n",
        "a = np.array([[1, 2, 3, 4], [5, 6, 7, 8], [9, 10, 11, 12], [13, 14, 15, 16]])\n",
        "print(a[[1,2,1,3],[1,0,2,3]])"
      ],
      "execution_count": 0,
      "outputs": [
        {
          "output_type": "stream",
          "text": [
            "[ 6  9  7 16]\n"
          ],
          "name": "stdout"
        }
      ]
    },
    {
      "cell_type": "code",
      "metadata": {
        "id": "vF3SLGffgHXy",
        "colab_type": "code",
        "colab": {}
      },
      "source": [
        "import numpy as np\n",
        "\n",
        "x = np.array([[1,2],[3,4]], dtype=np.float64)\n",
        "y = np.array([[5,6],[7,8]], dtype=np.float64)\n",
        "\n",
        "print(x + y)\n",
        "\n",
        "print(np.add(x, y))"
      ],
      "execution_count": 0,
      "outputs": []
    },
    {
      "cell_type": "code",
      "metadata": {
        "id": "wzDEwEW1gP4_",
        "colab_type": "code",
        "colab": {}
      },
      "source": [
        "print(x-y)\n",
        "\n",
        "print(np.subtract(x, y))"
      ],
      "execution_count": 0,
      "outputs": []
    },
    {
      "cell_type": "code",
      "metadata": {
        "id": "03qHdSnigVrN",
        "colab_type": "code",
        "colab": {}
      },
      "source": [
        "print(np.sqrt(x))"
      ],
      "execution_count": 0,
      "outputs": []
    },
    {
      "cell_type": "code",
      "metadata": {
        "id": "0XTCcl0nghRO",
        "colab_type": "code",
        "colab": {}
      },
      "source": [
        "import numpy as np\n",
        "\n",
        "a = np.array([[1,2], [3,4]])\n",
        "\n",
        "print(a)\n",
        "\n",
        "print(a.T)\n",
        "\n",
        "print(a.reshape(4,1))"
      ],
      "execution_count": 0,
      "outputs": []
    },
    {
      "cell_type": "code",
      "metadata": {
        "id": "A-X48xvdgxIQ",
        "colab_type": "code",
        "colab": {}
      },
      "source": [
        "import pandas as pd\n",
        "\n",
        "Data =[1, 3, 5, 7, 9, 11, 13]\n",
        "Index =['a', 'b', 'c', 'd', 'e', 'f', 'g']  \n",
        "\n",
        "ser = pd.Series(Data, Index)  \n",
        "print(ser)"
      ],
      "execution_count": 0,
      "outputs": []
    },
    {
      "cell_type": "code",
      "metadata": {
        "id": "BigWJs-YhP3S",
        "colab_type": "code",
        "colab": {}
      },
      "source": [
        "import pandas as pd\n",
        "\n",
        "Data =[1, 3, 5, 7, 9, 11, 13]\n",
        "ser = pd.Series(Data)\n",
        "print(ser)\n",
        "\n",
        "Index =['a', 'b', 'c', 'd', 'e', 'f', 'g']  \n",
        "\n",
        "new_ser = pd.Series(Data, Index)  \n",
        "print(new_ser)"
      ],
      "execution_count": 0,
      "outputs": []
    },
    {
      "cell_type": "code",
      "metadata": {
        "id": "bdpPVGALhZst",
        "colab_type": "code",
        "colab": {}
      },
      "source": [
        "import pandas as pd\n",
        "\n",
        "Data =[1, 3, 5, 7, 9, 11]\n",
        "Index =['a', 'b', 'c', 'd', 'e', 'f', 'g']  \n",
        "\n",
        "ser = pd.Series(Data, Index)  \n",
        "print(ser)"
      ],
      "execution_count": 0,
      "outputs": []
    },
    {
      "cell_type": "code",
      "metadata": {
        "id": "JQJDPOoZhdrg",
        "colab_type": "code",
        "colab": {}
      },
      "source": [
        "import pandas as pd\n",
        "\n",
        "Data =[1, 3, 5, 7, 9, 11, 13]\n",
        "Index =['a', 'b', 'c', 'd', 'e', 'f']  \n",
        "\n",
        "ser = pd.Series(Data, Index)  \n",
        "print(ser)"
      ],
      "execution_count": 0,
      "outputs": []
    },
    {
      "cell_type": "code",
      "metadata": {
        "id": "6rogB9YUhiKx",
        "colab_type": "code",
        "colab": {}
      },
      "source": [
        "Data =[[2, 3, 4], [5, 6, 7]]\n",
        "ser = pd.Series(Data)\n",
        "\n",
        "print(ser)\n",
        "\n",
        "Index=['a', 'b']\n",
        "ser_n = pd.Series(Data, Index)\n",
        "print(ser_n)"
      ],
      "execution_count": 0,
      "outputs": []
    },
    {
      "cell_type": "code",
      "metadata": {
        "id": "VSEZ1Iu3h5Rf",
        "colab_type": "code",
        "colab": {}
      },
      "source": [
        "import pandas as pd\n",
        "\n",
        "dict1 ={'a':1, 'b':2, 'c':3, 'd':4} \n",
        "dict2 ={'a':5, 'b':6, 'c':7, 'd':8, 'e':9} \n",
        "Data = {'first':dict1, 'second':dict2} \n",
        "df = pd.DataFrame(Data) \n",
        "\n",
        "print(df)"
      ],
      "execution_count": 0,
      "outputs": []
    },
    {
      "cell_type": "code",
      "metadata": {
        "id": "3-fH2AZniH4Y",
        "colab_type": "code",
        "colab": {}
      },
      "source": [
        "import pandas as pd\n",
        "\n",
        "dict1 ={'a':1, 'b':2, 'c':3, 'd':4} \n",
        "dict2 ={'a':5, 'b':6, 'c':7, 'd':8, 'e':9} \n",
        "Data = {'first':dict1, 'first':dict2} \n",
        "df = pd.DataFrame(Data) \n",
        "\n",
        "print(df)"
      ],
      "execution_count": 0,
      "outputs": []
    },
    {
      "cell_type": "code",
      "metadata": {
        "id": "KbjiwavpiP54",
        "colab_type": "code",
        "colab": {}
      },
      "source": [
        "import pandas as pd \n",
        "d1 =[[2, 3, 4], [5, 6, 7]] \n",
        "d2 =[[2, 4, 8], [1, 3, 9]] \n",
        "Data ={'first': d1, 'second': d2}   \n",
        "df2d = pd.DataFrame(Data) \n",
        "\n",
        "print(df2d)"
      ],
      "execution_count": 0,
      "outputs": []
    },
    {
      "cell_type": "code",
      "metadata": {
        "id": "wCPr10l1iu1p",
        "colab_type": "code",
        "colab": {}
      },
      "source": [
        "import pandas as pd\n",
        "\n",
        "nlist=[1, 2, 3, 4, 5, 6]\n",
        "df = pd.DataFrame(nlist)\n",
        "print(df)\n",
        "\n"
      ],
      "execution_count": 0,
      "outputs": []
    },
    {
      "cell_type": "code",
      "metadata": {
        "id": "eQpplQjCi6mN",
        "colab_type": "code",
        "colab": {}
      },
      "source": [
        "import pandas as pd\n",
        "\n",
        "nlist=[1, 2, 3, 4, 5, 6]\n",
        "df = pd.Dataframe(nlist)\n",
        "print(df)\n"
      ],
      "execution_count": 0,
      "outputs": []
    },
    {
      "cell_type": "code",
      "metadata": {
        "id": "Ywv5VrzTi_Pa",
        "colab_type": "code",
        "colab": {}
      },
      "source": [
        "import pandas as pd\n",
        " \n",
        "data = {'Name':['John', 'Jeff', 'Joe', 'Jess'],\n",
        "        'Age':[25, 28, 27, 32],\n",
        "        'Address':['Ohio', 'California', 'Arizona', 'New York'],\n",
        "        'Qualification':['BS', 'MS', 'MS', 'Phd']}\n",
        " \n",
        "df = pd.DataFrame(data)\n",
        " \n",
        "print(df[['Name', 'Qualification']])"
      ],
      "execution_count": 0,
      "outputs": []
    },
    {
      "cell_type": "code",
      "metadata": {
        "id": "cP8gJyF9hJpP",
        "colab_type": "code",
        "colab": {}
      },
      "source": [
        "from google.colab import files\n",
        "uploaded = files.upload()"
      ],
      "execution_count": 0,
      "outputs": []
    },
    {
      "cell_type": "code",
      "metadata": {
        "id": "ZPGGxc5BhQZN",
        "colab_type": "code",
        "colab": {}
      },
      "source": [
        "import pandas as pd\n",
        "data = pd.read_csv(\"nba.csv\", index_col=\"Name\")\n",
        "\n",
        "#print(data)\n",
        "\n",
        "first=data.loc[\"Avery Bradley\"]\n",
        "second=data.loc[\"R.J. Hunter\"]\n",
        "\n",
        "print(first)\n",
        "print(\"\\n\\n\")\n",
        "print(second)\n"
      ],
      "execution_count": 0,
      "outputs": []
    },
    {
      "cell_type": "code",
      "metadata": {
        "id": "n5yqFxaWjpBN",
        "colab_type": "code",
        "colab": {}
      },
      "source": [
        "import pandas as pd\n",
        "data = pd.read_csv(\"nba.csv\", index_col=\"Name\")\n",
        "\n",
        "first = data[\"Age\"]\n",
        "print(first)"
      ],
      "execution_count": 0,
      "outputs": []
    }
  ]
}